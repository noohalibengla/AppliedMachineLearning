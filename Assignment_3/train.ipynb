{
  "cells": [
    {
      "cell_type": "code",
      "execution_count": 23,
      "metadata": {
        "colab": {
          "base_uri": "https://localhost:8080/"
        },
        "id": "dipbcH-W9u5C",
        "outputId": "ad938c95-e267-4355-fff7-18048e77e1b5"
      },
      "outputs": [
        {
          "name": "stdout",
          "output_type": "stream",
          "text": [
            "Requirement already satisfied: mlflow in c:\\users\\nooha\\onedrive\\documents\\projects\\appliedml\\assignment_3\\venv\\lib\\site-packages (2.21.3)\n",
            "Requirement already satisfied: mlflow-skinny==2.21.3 in c:\\users\\nooha\\onedrive\\documents\\projects\\appliedml\\assignment_3\\venv\\lib\\site-packages (from mlflow) (2.21.3)\n",
            "Requirement already satisfied: Flask<4 in c:\\users\\nooha\\onedrive\\documents\\projects\\appliedml\\assignment_3\\venv\\lib\\site-packages (from mlflow) (3.1.0)\n",
            "Requirement already satisfied: Jinja2<4,>=3.0 in c:\\users\\nooha\\onedrive\\documents\\projects\\appliedml\\assignment_3\\venv\\lib\\site-packages (from mlflow) (3.1.6)\n",
            "Requirement already satisfied: alembic!=1.10.0,<2 in c:\\users\\nooha\\onedrive\\documents\\projects\\appliedml\\assignment_3\\venv\\lib\\site-packages (from mlflow) (1.15.2)\n",
            "Requirement already satisfied: docker<8,>=4.0.0 in c:\\users\\nooha\\onedrive\\documents\\projects\\appliedml\\assignment_3\\venv\\lib\\site-packages (from mlflow) (7.1.0)\n",
            "Requirement already satisfied: graphene<4 in c:\\users\\nooha\\onedrive\\documents\\projects\\appliedml\\assignment_3\\venv\\lib\\site-packages (from mlflow) (3.4.3)\n",
            "Requirement already satisfied: markdown<4,>=3.3 in c:\\users\\nooha\\onedrive\\documents\\projects\\appliedml\\assignment_3\\venv\\lib\\site-packages (from mlflow) (3.7)\n",
            "Requirement already satisfied: matplotlib<4 in c:\\users\\nooha\\onedrive\\documents\\projects\\appliedml\\assignment_3\\venv\\lib\\site-packages (from mlflow) (3.10.1)\n",
            "Requirement already satisfied: numpy<3 in c:\\users\\nooha\\onedrive\\documents\\projects\\appliedml\\assignment_3\\venv\\lib\\site-packages (from mlflow) (2.2.4)\n",
            "Requirement already satisfied: pandas<3 in c:\\users\\nooha\\onedrive\\documents\\projects\\appliedml\\assignment_3\\venv\\lib\\site-packages (from mlflow) (2.2.3)\n",
            "Requirement already satisfied: pyarrow<20,>=4.0.0 in c:\\users\\nooha\\onedrive\\documents\\projects\\appliedml\\assignment_3\\venv\\lib\\site-packages (from mlflow) (19.0.1)\n",
            "Requirement already satisfied: scikit-learn<2 in c:\\users\\nooha\\onedrive\\documents\\projects\\appliedml\\assignment_3\\venv\\lib\\site-packages (from mlflow) (1.6.1)\n",
            "Requirement already satisfied: scipy<2 in c:\\users\\nooha\\onedrive\\documents\\projects\\appliedml\\assignment_3\\venv\\lib\\site-packages (from mlflow) (1.15.2)\n",
            "Requirement already satisfied: sqlalchemy<3,>=1.4.0 in c:\\users\\nooha\\onedrive\\documents\\projects\\appliedml\\assignment_3\\venv\\lib\\site-packages (from mlflow) (2.0.40)\n",
            "Requirement already satisfied: waitress<4 in c:\\users\\nooha\\onedrive\\documents\\projects\\appliedml\\assignment_3\\venv\\lib\\site-packages (from mlflow) (3.0.2)\n",
            "Requirement already satisfied: cachetools<6,>=5.0.0 in c:\\users\\nooha\\onedrive\\documents\\projects\\appliedml\\assignment_3\\venv\\lib\\site-packages (from mlflow-skinny==2.21.3->mlflow) (5.5.2)\n",
            "Requirement already satisfied: click<9,>=7.0 in c:\\users\\nooha\\onedrive\\documents\\projects\\appliedml\\assignment_3\\venv\\lib\\site-packages (from mlflow-skinny==2.21.3->mlflow) (8.1.8)\n",
            "Requirement already satisfied: cloudpickle<4 in c:\\users\\nooha\\onedrive\\documents\\projects\\appliedml\\assignment_3\\venv\\lib\\site-packages (from mlflow-skinny==2.21.3->mlflow) (3.1.1)\n",
            "Requirement already satisfied: databricks-sdk<1,>=0.20.0 in c:\\users\\nooha\\onedrive\\documents\\projects\\appliedml\\assignment_3\\venv\\lib\\site-packages (from mlflow-skinny==2.21.3->mlflow) (0.49.0)\n",
            "Requirement already satisfied: fastapi<1 in c:\\users\\nooha\\onedrive\\documents\\projects\\appliedml\\assignment_3\\venv\\lib\\site-packages (from mlflow-skinny==2.21.3->mlflow) (0.115.12)\n",
            "Requirement already satisfied: gitpython<4,>=3.1.9 in c:\\users\\nooha\\onedrive\\documents\\projects\\appliedml\\assignment_3\\venv\\lib\\site-packages (from mlflow-skinny==2.21.3->mlflow) (3.1.44)\n",
            "Requirement already satisfied: importlib_metadata!=4.7.0,<9,>=3.7.0 in c:\\users\\nooha\\onedrive\\documents\\projects\\appliedml\\assignment_3\\venv\\lib\\site-packages (from mlflow-skinny==2.21.3->mlflow) (8.6.1)\n",
            "Requirement already satisfied: opentelemetry-api<3,>=1.9.0 in c:\\users\\nooha\\onedrive\\documents\\projects\\appliedml\\assignment_3\\venv\\lib\\site-packages (from mlflow-skinny==2.21.3->mlflow) (1.31.1)\n",
            "Requirement already satisfied: opentelemetry-sdk<3,>=1.9.0 in c:\\users\\nooha\\onedrive\\documents\\projects\\appliedml\\assignment_3\\venv\\lib\\site-packages (from mlflow-skinny==2.21.3->mlflow) (1.31.1)\n",
            "Requirement already satisfied: packaging<25 in c:\\users\\nooha\\onedrive\\documents\\projects\\appliedml\\assignment_3\\venv\\lib\\site-packages (from mlflow-skinny==2.21.3->mlflow) (24.2)\n",
            "Requirement already satisfied: protobuf<6,>=3.12.0 in c:\\users\\nooha\\onedrive\\documents\\projects\\appliedml\\assignment_3\\venv\\lib\\site-packages (from mlflow-skinny==2.21.3->mlflow) (5.29.4)\n",
            "Requirement already satisfied: pydantic<3,>=1.10.8 in c:\\users\\nooha\\onedrive\\documents\\projects\\appliedml\\assignment_3\\venv\\lib\\site-packages (from mlflow-skinny==2.21.3->mlflow) (2.11.3)\n",
            "Requirement already satisfied: pyyaml<7,>=5.1 in c:\\users\\nooha\\onedrive\\documents\\projects\\appliedml\\assignment_3\\venv\\lib\\site-packages (from mlflow-skinny==2.21.3->mlflow) (6.0.2)\n",
            "Requirement already satisfied: requests<3,>=2.17.3 in c:\\users\\nooha\\onedrive\\documents\\projects\\appliedml\\assignment_3\\venv\\lib\\site-packages (from mlflow-skinny==2.21.3->mlflow) (2.32.3)\n",
            "Requirement already satisfied: sqlparse<1,>=0.4.0 in c:\\users\\nooha\\onedrive\\documents\\projects\\appliedml\\assignment_3\\venv\\lib\\site-packages (from mlflow-skinny==2.21.3->mlflow) (0.5.3)\n",
            "Requirement already satisfied: typing-extensions<5,>=4.0.0 in c:\\users\\nooha\\onedrive\\documents\\projects\\appliedml\\assignment_3\\venv\\lib\\site-packages (from mlflow-skinny==2.21.3->mlflow) (4.13.1)\n",
            "Requirement already satisfied: uvicorn<1 in c:\\users\\nooha\\onedrive\\documents\\projects\\appliedml\\assignment_3\\venv\\lib\\site-packages (from mlflow-skinny==2.21.3->mlflow) (0.34.0)\n",
            "Requirement already satisfied: Mako in c:\\users\\nooha\\onedrive\\documents\\projects\\appliedml\\assignment_3\\venv\\lib\\site-packages (from alembic!=1.10.0,<2->mlflow) (1.3.9)\n",
            "Requirement already satisfied: pywin32>=304 in c:\\users\\nooha\\onedrive\\documents\\projects\\appliedml\\assignment_3\\venv\\lib\\site-packages (from docker<8,>=4.0.0->mlflow) (310)\n",
            "Requirement already satisfied: urllib3>=1.26.0 in c:\\users\\nooha\\onedrive\\documents\\projects\\appliedml\\assignment_3\\venv\\lib\\site-packages (from docker<8,>=4.0.0->mlflow) (2.3.0)\n",
            "Requirement already satisfied: Werkzeug>=3.1 in c:\\users\\nooha\\onedrive\\documents\\projects\\appliedml\\assignment_3\\venv\\lib\\site-packages (from Flask<4->mlflow) (3.1.3)\n",
            "Requirement already satisfied: itsdangerous>=2.2 in c:\\users\\nooha\\onedrive\\documents\\projects\\appliedml\\assignment_3\\venv\\lib\\site-packages (from Flask<4->mlflow) (2.2.0)\n",
            "Requirement already satisfied: blinker>=1.9 in c:\\users\\nooha\\onedrive\\documents\\projects\\appliedml\\assignment_3\\venv\\lib\\site-packages (from Flask<4->mlflow) (1.9.0)\n",
            "Requirement already satisfied: graphql-core<3.3,>=3.1 in c:\\users\\nooha\\onedrive\\documents\\projects\\appliedml\\assignment_3\\venv\\lib\\site-packages (from graphene<4->mlflow) (3.2.6)\n",
            "Requirement already satisfied: graphql-relay<3.3,>=3.1 in c:\\users\\nooha\\onedrive\\documents\\projects\\appliedml\\assignment_3\\venv\\lib\\site-packages (from graphene<4->mlflow) (3.2.0)\n",
            "Requirement already satisfied: python-dateutil<3,>=2.7.0 in c:\\users\\nooha\\onedrive\\documents\\projects\\appliedml\\assignment_3\\venv\\lib\\site-packages (from graphene<4->mlflow) (2.9.0.post0)\n",
            "Requirement already satisfied: MarkupSafe>=2.0 in c:\\users\\nooha\\onedrive\\documents\\projects\\appliedml\\assignment_3\\venv\\lib\\site-packages (from Jinja2<4,>=3.0->mlflow) (3.0.2)\n",
            "Requirement already satisfied: contourpy>=1.0.1 in c:\\users\\nooha\\onedrive\\documents\\projects\\appliedml\\assignment_3\\venv\\lib\\site-packages (from matplotlib<4->mlflow) (1.3.1)\n",
            "Requirement already satisfied: cycler>=0.10 in c:\\users\\nooha\\onedrive\\documents\\projects\\appliedml\\assignment_3\\venv\\lib\\site-packages (from matplotlib<4->mlflow) (0.12.1)\n",
            "Requirement already satisfied: fonttools>=4.22.0 in c:\\users\\nooha\\onedrive\\documents\\projects\\appliedml\\assignment_3\\venv\\lib\\site-packages (from matplotlib<4->mlflow) (4.57.0)\n",
            "Requirement already satisfied: kiwisolver>=1.3.1 in c:\\users\\nooha\\onedrive\\documents\\projects\\appliedml\\assignment_3\\venv\\lib\\site-packages (from matplotlib<4->mlflow) (1.4.8)\n",
            "Requirement already satisfied: pillow>=8 in c:\\users\\nooha\\onedrive\\documents\\projects\\appliedml\\assignment_3\\venv\\lib\\site-packages (from matplotlib<4->mlflow) (11.1.0)\n",
            "Requirement already satisfied: pyparsing>=2.3.1 in c:\\users\\nooha\\onedrive\\documents\\projects\\appliedml\\assignment_3\\venv\\lib\\site-packages (from matplotlib<4->mlflow) (3.2.3)\n",
            "Requirement already satisfied: pytz>=2020.1 in c:\\users\\nooha\\onedrive\\documents\\projects\\appliedml\\assignment_3\\venv\\lib\\site-packages (from pandas<3->mlflow) (2025.2)\n",
            "Requirement already satisfied: tzdata>=2022.7 in c:\\users\\nooha\\onedrive\\documents\\projects\\appliedml\\assignment_3\\venv\\lib\\site-packages (from pandas<3->mlflow) (2025.2)\n",
            "Requirement already satisfied: joblib>=1.2.0 in c:\\users\\nooha\\onedrive\\documents\\projects\\appliedml\\assignment_3\\venv\\lib\\site-packages (from scikit-learn<2->mlflow) (1.4.2)\n",
            "Requirement already satisfied: threadpoolctl>=3.1.0 in c:\\users\\nooha\\onedrive\\documents\\projects\\appliedml\\assignment_3\\venv\\lib\\site-packages (from scikit-learn<2->mlflow) (3.6.0)\n",
            "Requirement already satisfied: greenlet>=1 in c:\\users\\nooha\\onedrive\\documents\\projects\\appliedml\\assignment_3\\venv\\lib\\site-packages (from sqlalchemy<3,>=1.4.0->mlflow) (3.1.1)\n",
            "Requirement already satisfied: colorama in c:\\users\\nooha\\onedrive\\documents\\projects\\appliedml\\assignment_3\\venv\\lib\\site-packages (from click<9,>=7.0->mlflow-skinny==2.21.3->mlflow) (0.4.6)\n",
            "Requirement already satisfied: google-auth~=2.0 in c:\\users\\nooha\\onedrive\\documents\\projects\\appliedml\\assignment_3\\venv\\lib\\site-packages (from databricks-sdk<1,>=0.20.0->mlflow-skinny==2.21.3->mlflow) (2.38.0)\n",
            "Requirement already satisfied: starlette<0.47.0,>=0.40.0 in c:\\users\\nooha\\onedrive\\documents\\projects\\appliedml\\assignment_3\\venv\\lib\\site-packages (from fastapi<1->mlflow-skinny==2.21.3->mlflow) (0.46.1)\n",
            "Requirement already satisfied: gitdb<5,>=4.0.1 in c:\\users\\nooha\\onedrive\\documents\\projects\\appliedml\\assignment_3\\venv\\lib\\site-packages (from gitpython<4,>=3.1.9->mlflow-skinny==2.21.3->mlflow) (4.0.12)\n",
            "Requirement already satisfied: zipp>=3.20 in c:\\users\\nooha\\onedrive\\documents\\projects\\appliedml\\assignment_3\\venv\\lib\\site-packages (from importlib_metadata!=4.7.0,<9,>=3.7.0->mlflow-skinny==2.21.3->mlflow) (3.21.0)\n",
            "Requirement already satisfied: deprecated>=1.2.6 in c:\\users\\nooha\\onedrive\\documents\\projects\\appliedml\\assignment_3\\venv\\lib\\site-packages (from opentelemetry-api<3,>=1.9.0->mlflow-skinny==2.21.3->mlflow) (1.2.18)\n",
            "Requirement already satisfied: opentelemetry-semantic-conventions==0.52b1 in c:\\users\\nooha\\onedrive\\documents\\projects\\appliedml\\assignment_3\\venv\\lib\\site-packages (from opentelemetry-sdk<3,>=1.9.0->mlflow-skinny==2.21.3->mlflow) (0.52b1)\n",
            "Requirement already satisfied: annotated-types>=0.6.0 in c:\\users\\nooha\\onedrive\\documents\\projects\\appliedml\\assignment_3\\venv\\lib\\site-packages (from pydantic<3,>=1.10.8->mlflow-skinny==2.21.3->mlflow) (0.7.0)\n",
            "Requirement already satisfied: pydantic-core==2.33.1 in c:\\users\\nooha\\onedrive\\documents\\projects\\appliedml\\assignment_3\\venv\\lib\\site-packages (from pydantic<3,>=1.10.8->mlflow-skinny==2.21.3->mlflow) (2.33.1)\n",
            "Requirement already satisfied: typing-inspection>=0.4.0 in c:\\users\\nooha\\onedrive\\documents\\projects\\appliedml\\assignment_3\\venv\\lib\\site-packages (from pydantic<3,>=1.10.8->mlflow-skinny==2.21.3->mlflow) (0.4.0)\n",
            "Requirement already satisfied: six>=1.5 in c:\\users\\nooha\\onedrive\\documents\\projects\\appliedml\\assignment_3\\venv\\lib\\site-packages (from python-dateutil<3,>=2.7.0->graphene<4->mlflow) (1.17.0)\n",
            "Requirement already satisfied: charset-normalizer<4,>=2 in c:\\users\\nooha\\onedrive\\documents\\projects\\appliedml\\assignment_3\\venv\\lib\\site-packages (from requests<3,>=2.17.3->mlflow-skinny==2.21.3->mlflow) (3.4.1)\n",
            "Requirement already satisfied: idna<4,>=2.5 in c:\\users\\nooha\\onedrive\\documents\\projects\\appliedml\\assignment_3\\venv\\lib\\site-packages (from requests<3,>=2.17.3->mlflow-skinny==2.21.3->mlflow) (3.10)\n",
            "Requirement already satisfied: certifi>=2017.4.17 in c:\\users\\nooha\\onedrive\\documents\\projects\\appliedml\\assignment_3\\venv\\lib\\site-packages (from requests<3,>=2.17.3->mlflow-skinny==2.21.3->mlflow) (2025.1.31)\n",
            "Requirement already satisfied: h11>=0.8 in c:\\users\\nooha\\onedrive\\documents\\projects\\appliedml\\assignment_3\\venv\\lib\\site-packages (from uvicorn<1->mlflow-skinny==2.21.3->mlflow) (0.14.0)\n",
            "Requirement already satisfied: wrapt<2,>=1.10 in c:\\users\\nooha\\onedrive\\documents\\projects\\appliedml\\assignment_3\\venv\\lib\\site-packages (from deprecated>=1.2.6->opentelemetry-api<3,>=1.9.0->mlflow-skinny==2.21.3->mlflow) (1.17.2)\n",
            "Requirement already satisfied: smmap<6,>=3.0.1 in c:\\users\\nooha\\onedrive\\documents\\projects\\appliedml\\assignment_3\\venv\\lib\\site-packages (from gitdb<5,>=4.0.1->gitpython<4,>=3.1.9->mlflow-skinny==2.21.3->mlflow) (5.0.2)\n",
            "Requirement already satisfied: pyasn1-modules>=0.2.1 in c:\\users\\nooha\\onedrive\\documents\\projects\\appliedml\\assignment_3\\venv\\lib\\site-packages (from google-auth~=2.0->databricks-sdk<1,>=0.20.0->mlflow-skinny==2.21.3->mlflow) (0.4.2)\n",
            "Requirement already satisfied: rsa<5,>=3.1.4 in c:\\users\\nooha\\onedrive\\documents\\projects\\appliedml\\assignment_3\\venv\\lib\\site-packages (from google-auth~=2.0->databricks-sdk<1,>=0.20.0->mlflow-skinny==2.21.3->mlflow) (4.9)\n",
            "Requirement already satisfied: anyio<5,>=3.6.2 in c:\\users\\nooha\\onedrive\\documents\\projects\\appliedml\\assignment_3\\venv\\lib\\site-packages (from starlette<0.47.0,>=0.40.0->fastapi<1->mlflow-skinny==2.21.3->mlflow) (4.9.0)\n",
            "Requirement already satisfied: sniffio>=1.1 in c:\\users\\nooha\\onedrive\\documents\\projects\\appliedml\\assignment_3\\venv\\lib\\site-packages (from anyio<5,>=3.6.2->starlette<0.47.0,>=0.40.0->fastapi<1->mlflow-skinny==2.21.3->mlflow) (1.3.1)\n",
            "Requirement already satisfied: pyasn1<0.7.0,>=0.6.1 in c:\\users\\nooha\\onedrive\\documents\\projects\\appliedml\\assignment_3\\venv\\lib\\site-packages (from pyasn1-modules>=0.2.1->google-auth~=2.0->databricks-sdk<1,>=0.20.0->mlflow-skinny==2.21.3->mlflow) (0.6.1)\n"
          ]
        },
        {
          "name": "stderr",
          "output_type": "stream",
          "text": [
            "\n",
            "[notice] A new release of pip is available: 24.0 -> 25.0.1\n",
            "[notice] To update, run: python.exe -m pip install --upgrade pip\n"
          ]
        }
      ],
      "source": [
        "!pip install mlflow\n"
      ]
    },
    {
      "cell_type": "code",
      "execution_count": 24,
      "metadata": {
        "id": "hjgAwUIdCOlN"
      },
      "outputs": [],
      "source": [
        "import mlflow\n",
        "import mlflow.sklearn\n",
        "from sklearn.ensemble import RandomForestClassifier\n",
        "from sklearn.svm import SVC\n",
        "from sklearn.linear_model import LogisticRegression\n",
        "from sklearn.metrics import average_precision_score"
      ]
    },
    {
      "cell_type": "code",
      "execution_count": 25,
      "metadata": {
        "id": "BqleuR0--iTh"
      },
      "outputs": [],
      "source": [
        "import warnings\n",
        "\n",
        "# Suppress all warnings\n",
        "warnings.filterwarnings(\"ignore\")\n",
        "\n",
        "# Suppress specific warnings (e.g., DeprecationWarning)\n",
        "warnings.filterwarnings(\"ignore\", category=DeprecationWarning)"
      ]
    },
    {
      "cell_type": "code",
      "execution_count": 28,
      "metadata": {
        "id": "bb64V3NJ-4NY"
      },
      "outputs": [],
      "source": [
        "import pandas as pd\n",
        "from sklearn.model_selection import train_test_split\n",
        "\n",
        "data = pd.read_csv('processed_data.csv')\n",
        "data.dropna(inplace=True)\n",
        "train_data, test_data = train_test_split(data, test_size=0.2, random_state=42)\n"
      ]
    },
    {
      "cell_type": "markdown",
      "metadata": {
        "id": "h561SglhBiPk"
      },
      "source": [
        "## Loading data and Vectorizing it"
      ]
    },
    {
      "cell_type": "code",
      "execution_count": null,
      "metadata": {},
      "outputs": [],
      "source": [
        "from sklearn.feature_extraction.text import CountVectorizer, TfidfTransformer\n",
        "import pickle\n",
        "\n",
        "# Define a named function instead of lambda\n",
        "from auxilary import simple_split\n",
        "\n",
        "# Use the named function in CountVectorizer\n",
        "vectorizer = CountVectorizer(analyzer=simple_split)\n",
        "\n",
        "train_bow = vectorizer.fit_transform(train_data['processed msg'])\n",
        "\n",
        "# Transform BoW into TF-IDF representation\n",
        "tfidf_converter = TfidfTransformer()\n",
        "train_tfidf = tfidf_converter.fit_transform(train_bow)\n",
        "\n",
        "test_bow = vectorizer.transform(test_data['processed msg'])\n",
        "test_tfidf = tfidf_converter.transform(test_bow)\n",
        "\n",
        "y_train = train_data.Label.map({'ham': 0, 'spam': 1}).values\n",
        "y_test = test_data['Label'].map({'ham': 0, 'spam': 1}).values\n",
        "\n",
        "\n",
        "with open(\"custom_vectorizer.pkl\", \"wb\") as f:\n",
        "    pickle.dump(vectorizer, f)"
      ]
    },
    {
      "cell_type": "markdown",
      "metadata": {
        "id": "rT5I9QTpCjCN"
      },
      "source": [
        "## Starting ML flow"
      ]
    },
    {
      "cell_type": "code",
      "execution_count": 22,
      "metadata": {
        "id": "vdZC8_v59KA9"
      },
      "outputs": [],
      "source": [
        "mlflow.set_experiment(\"spam_detection\")\n",
        "\n",
        "# Function to train and log models\n",
        "def train_and_log_model(model, model_name, X_train, y_train, X_test, y_test):\n",
        "    with mlflow.start_run():\n",
        "        model.fit(X_train, y_train)\n",
        "        y_pred_prob = model.predict_proba(X_test)[:, 1] if hasattr(model, \"predict_proba\") else model.decision_function(X_test)\n",
        "        aucpr = average_precision_score(y_test, y_pred_prob)\n",
        "\n",
        "        # Log model parameters\n",
        "        mlflow.log_params(model.get_params())\n",
        "\n",
        "        # Log AUCPR metric\n",
        "        mlflow.log_metric(\"AUCPR\", aucpr)\n",
        "\n",
        "        # Log the model\n",
        "        mlflow.sklearn.log_model(model, model_name)\n",
        "\n",
        "        print(f\"{model_name} AUCPR: {aucpr:.4f}\")\n",
        "\n",
        "        return model, aucpr"
      ]
    },
    {
      "cell_type": "code",
      "execution_count": 16,
      "metadata": {
        "id": "51qEheUs9TyA"
      },
      "outputs": [],
      "source": [
        "# Taking the same models from last\n",
        "rf = RandomForestClassifier(max_depth=None, min_samples_leaf=1, min_samples_split=10, n_estimators=200)\n",
        "svm = SVC(C=1, gamma='scale', kernel='linear', probability=True)\n",
        "lr = LogisticRegression(C=20, penalty='l2', solver='saga')"
      ]
    },
    {
      "cell_type": "code",
      "execution_count": 17,
      "metadata": {
        "colab": {
          "base_uri": "https://localhost:8080/"
        },
        "id": "XJwtpNYk9akf",
        "outputId": "345c766d-f1f6-4f35-ba5d-dc9d108b243d"
      },
      "outputs": [
        {
          "name": "stderr",
          "output_type": "stream",
          "text": [
            "2025/04/10 14:08:45 WARNING mlflow.utils.git_utils: Failed to import Git (the Git executable is probably not on your PATH), so Git SHA is not available. Error: Failed to initialize: Bad git executable.\n",
            "The git executable must be specified in one of the following ways:\n",
            "    - be included in your $PATH\n",
            "    - be set via $GIT_PYTHON_GIT_EXECUTABLE\n",
            "    - explicitly set via git.refresh(<full-path-to-git-executable>)\n",
            "\n",
            "All git commands will error until this is rectified.\n",
            "\n",
            "This initial message can be silenced or aggravated in the future by setting the\n",
            "$GIT_PYTHON_REFRESH environment variable. Use one of the following values:\n",
            "    - quiet|q|silence|s|silent|none|n|0: for no message or exception\n",
            "    - warn|w|warning|log|l|1: for a warning message (logging level CRITICAL, displayed by default)\n",
            "    - error|e|exception|raise|r|2: for a raised exception\n",
            "\n",
            "Example:\n",
            "    export GIT_PYTHON_REFRESH=quiet\n",
            "\n",
            "2025/04/10 14:09:02 WARNING mlflow.models.model: Model logged without a signature and input example. Please set `input_example` parameter when logging the model to auto infer the model signature.\n"
          ]
        },
        {
          "name": "stdout",
          "output_type": "stream",
          "text": [
            "RandomForest AUCPR: 0.9698\n"
          ]
        },
        {
          "name": "stderr",
          "output_type": "stream",
          "text": [
            "2025/04/10 14:09:15 WARNING mlflow.models.model: Model logged without a signature and input example. Please set `input_example` parameter when logging the model to auto infer the model signature.\n"
          ]
        },
        {
          "name": "stdout",
          "output_type": "stream",
          "text": [
            "SVM AUCPR: 0.9751\n"
          ]
        },
        {
          "name": "stderr",
          "output_type": "stream",
          "text": [
            "2025/04/10 14:09:22 WARNING mlflow.models.model: Model logged without a signature and input example. Please set `input_example` parameter when logging the model to auto infer the model signature.\n"
          ]
        },
        {
          "name": "stdout",
          "output_type": "stream",
          "text": [
            "LogisticRegression AUCPR: 0.9724\n"
          ]
        }
      ],
      "source": [
        "# Train and log models\n",
        "rf_model, rf_aucpr = train_and_log_model(rf, \"RandomForest\", train_tfidf, y_train, test_tfidf, y_test)\n",
        "svm_model, svm_aucpr = train_and_log_model(svm, \"SVM\", train_tfidf, y_train, test_tfidf, y_test)\n",
        "lr_model, lr_aucpr = train_and_log_model(lr, \"LogisticRegression\", train_tfidf, y_train, test_tfidf, y_test)"
      ]
    },
    {
      "cell_type": "code",
      "execution_count": 20,
      "metadata": {},
      "outputs": [],
      "source": [
        "import pickle\n",
        "\n",
        "with open('svm.pkl', 'wb') as f:\n",
        "    pickle.dump(svm_model, f)"
      ]
    },
    {
      "cell_type": "code",
      "execution_count": 18,
      "metadata": {
        "colab": {
          "base_uri": "https://localhost:8080/"
        },
        "id": "7uxywM1E9csH",
        "outputId": "d771b411-ceb3-4564-968e-71c88eef1ebc"
      },
      "outputs": [
        {
          "name": "stdout",
          "output_type": "stream",
          "text": [
            "\n",
            "Model Selection Metrics (AUCPR):\n",
            "Random Forest: 0.9698\n",
            "SVM: 0.9751\n",
            "Logistic Regression: 0.9724\n"
          ]
        }
      ],
      "source": [
        "# Print results\n",
        "print(\"\\nModel Selection Metrics (AUCPR):\")\n",
        "print(f\"Random Forest: {rf_aucpr:.4f}\")\n",
        "print(f\"SVM: {svm_aucpr:.4f}\")\n",
        "print(f\"Logistic Regression: {lr_aucpr:.4f}\")"
      ]
    },
    {
      "cell_type": "code",
      "execution_count": null,
      "metadata": {},
      "outputs": [],
      "source": []
    }
  ],
  "metadata": {
    "colab": {
      "provenance": []
    },
    "kernelspec": {
      "display_name": "venv",
      "language": "python",
      "name": "python3"
    },
    "language_info": {
      "codemirror_mode": {
        "name": "ipython",
        "version": 3
      },
      "file_extension": ".py",
      "mimetype": "text/x-python",
      "name": "python",
      "nbconvert_exporter": "python",
      "pygments_lexer": "ipython3",
      "version": "3.12.3"
    }
  },
  "nbformat": 4,
  "nbformat_minor": 0
}
