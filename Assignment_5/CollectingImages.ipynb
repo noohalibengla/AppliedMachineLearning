{
  "nbformat": 4,
  "nbformat_minor": 0,
  "metadata": {
    "colab": {
      "provenance": []
    },
    "kernelspec": {
      "name": "python3",
      "display_name": "Python 3"
    },
    "language_info": {
      "name": "python"
    }
  },
  "cells": [
    {
      "cell_type": "markdown",
      "source": [
        "## Preperation"
      ],
      "metadata": {
        "id": "vc9FPbr9LJQC"
      }
    },
    {
      "cell_type": "code",
      "source": [
        "!pip install icrawler\n"
      ],
      "metadata": {
        "colab": {
          "base_uri": "https://localhost:8080/"
        },
        "id": "CQ95VVOmkyfp",
        "outputId": "5a4352dc-0e2a-442b-9756-17903f2368a1"
      },
      "execution_count": 9,
      "outputs": [
        {
          "output_type": "stream",
          "name": "stdout",
          "text": [
            "Collecting icrawler\n",
            "  Downloading icrawler-0.6.10-py3-none-any.whl.metadata (6.2 kB)\n",
            "Requirement already satisfied: beautifulsoup4 in /usr/local/lib/python3.11/dist-packages (from icrawler) (4.13.3)\n",
            "Collecting bs4 (from icrawler)\n",
            "  Downloading bs4-0.0.2-py2.py3-none-any.whl.metadata (411 bytes)\n",
            "Requirement already satisfied: lxml in /usr/local/lib/python3.11/dist-packages (from icrawler) (5.3.2)\n",
            "Requirement already satisfied: pillow in /usr/local/lib/python3.11/dist-packages (from icrawler) (11.1.0)\n",
            "Requirement already satisfied: pyyaml in /usr/local/lib/python3.11/dist-packages (from icrawler) (6.0.2)\n",
            "Requirement already satisfied: requests in /usr/local/lib/python3.11/dist-packages (from icrawler) (2.32.3)\n",
            "Requirement already satisfied: six in /usr/local/lib/python3.11/dist-packages (from icrawler) (1.17.0)\n",
            "Requirement already satisfied: soupsieve>1.2 in /usr/local/lib/python3.11/dist-packages (from beautifulsoup4->icrawler) (2.6)\n",
            "Requirement already satisfied: typing-extensions>=4.0.0 in /usr/local/lib/python3.11/dist-packages (from beautifulsoup4->icrawler) (4.13.1)\n",
            "Requirement already satisfied: charset-normalizer<4,>=2 in /usr/local/lib/python3.11/dist-packages (from requests->icrawler) (3.4.1)\n",
            "Requirement already satisfied: idna<4,>=2.5 in /usr/local/lib/python3.11/dist-packages (from requests->icrawler) (3.10)\n",
            "Requirement already satisfied: urllib3<3,>=1.21.1 in /usr/local/lib/python3.11/dist-packages (from requests->icrawler) (2.3.0)\n",
            "Requirement already satisfied: certifi>=2017.4.17 in /usr/local/lib/python3.11/dist-packages (from requests->icrawler) (2025.1.31)\n",
            "Downloading icrawler-0.6.10-py3-none-any.whl (36 kB)\n",
            "Downloading bs4-0.0.2-py2.py3-none-any.whl (1.2 kB)\n",
            "Installing collected packages: bs4, icrawler\n",
            "Successfully installed bs4-0.0.2 icrawler-0.6.10\n"
          ]
        }
      ]
    },
    {
      "cell_type": "code",
      "source": [
        "from icrawler.builtin import GoogleImageCrawler\n",
        "\n",
        "def download_images(keyword, max_num, folder):\n",
        "    google_crawler = GoogleImageCrawler(storage={'root_dir': folder})\n",
        "    google_crawler.crawl(keyword=keyword, max_num=max_num)\n",
        "\n",
        "download_images(\"Hen\", 100, \"chicken_images\")\n",
        "download_images(\"duck\", 100, \"duck_images\")\n"
      ],
      "metadata": {
        "colab": {
          "base_uri": "https://localhost:8080/"
        },
        "id": "4vaN5u5qlMK4",
        "outputId": "3cdcd439-3fd4-4480-bf5f-381946624bf3"
      },
      "execution_count": 10,
      "outputs": [
        {
          "output_type": "stream",
          "name": "stderr",
          "text": [
            "ERROR:downloader:Response status code 404, file https://upload.wikimedia.org/wikipedia/commons/thumb/8/84/Male_and_female_chicken_sitting_together.jpg\n",
            "ERROR:downloader:Response status code 400, file https://www.madewithlau.com/_next/image?url=https%3A%2F%2Fcdn.sanity.io%2Fimages%2F2r0kdewr%2Fproduction%2Fd8da2bdbd08051c0861f496886fe411be357d8a9-1000x668.jpg\n",
            "ERROR:downloader:Response status code 403, file https://food.fnr.sndimg.com/content/dam/images/food/fullset/2011/6/3/1/FNM_070111-Fried-Chicken-026_s4x3.jpg\n",
            "ERROR:downloader:Response status code 401, file https://i.guim.co.uk/img/media/30646649ad38eca6e8ddd6108af6de13e43117a4/475_196_4518_3323/master/4518.jpg\n",
            "ERROR:downloader:Response status code 403, file https://thecookscook.com/wp-content/uploads/white-chicken.jpg\n",
            "ERROR:downloader:Response status code 403, file https://www.chicken.ca/wp-content/uploads/2020/09/10-Lousiana-Fried-Chicken-CFC-25544.jpg\n",
            "ERROR:downloader:Exception caught when downloading file https://www.washingtonpost.com/resizer/cFHUQyIklbnhovNqV0NtwvddkZw=/arc-anglerfish-washpost-prod-washpost/public/WNBZK3VTG4I6XPEW7X2V3ZB354.jpg, error: HTTPSConnectionPool(host='www.washingtonpost.com', port=443): Read timed out. (read timeout=5), remaining retry times: 2\n",
            "ERROR:downloader:Exception caught when downloading file https://www.washingtonpost.com/resizer/cFHUQyIklbnhovNqV0NtwvddkZw=/arc-anglerfish-washpost-prod-washpost/public/WNBZK3VTG4I6XPEW7X2V3ZB354.jpg, error: HTTPSConnectionPool(host='www.washingtonpost.com', port=443): Read timed out. (read timeout=5), remaining retry times: 1\n",
            "ERROR:downloader:Exception caught when downloading file https://www.washingtonpost.com/resizer/cFHUQyIklbnhovNqV0NtwvddkZw=/arc-anglerfish-washpost-prod-washpost/public/WNBZK3VTG4I6XPEW7X2V3ZB354.jpg, error: HTTPSConnectionPool(host='www.washingtonpost.com', port=443): Read timed out. (read timeout=5), remaining retry times: 0\n",
            "ERROR:downloader:Response status code 502, file https://images.immediate.co.uk/production/volatile/sites/30/2018/06/One-pot-spiced-chicken-1763078.jpg\n",
            "ERROR:downloader:Response status code 404, file https://cdn.apartmenttherapy.info/image/upload/f_jpg\n",
            "ERROR:downloader:Response status code 403, file https://thehappyfoodie.co.uk/wp-content/uploads/2021/08/the_good_cook_5_151_img.jpg\n",
            "ERROR:downloader:Response status code 401, file https://images.themodernproper.com/production/posts/2022/MarryMeChicken_7.jpg\n",
            "ERROR:downloader:Response status code 403, file https://nutrenaworld.com/wp-content/uploads/2024/01/poultry_blog_why-keep-ducks_820x525.jpg\n",
            "ERROR:downloader:Response status code 404, file https://upload.wikimedia.org/wikipedia/commons/thumb/b/b0/Anas_platyrhynchos_male_female.jpg\n",
            "ERROR:downloader:Response status code 404, file https://upload.wikimedia.org/wikipedia/commons/thumb/9/96/Domestic-crested-duck-CamdenME.jpg\n",
            "ERROR:downloader:Response status code 404, file https://blog.meyerhatchery.com/wp-content/uploads/2023/08/ducks1-Watermarked-jpg\n",
            "ERROR:downloader:Exception caught when downloading file https://tpwmagazine.com/archive/2022/jan/scout11b_r3/img/dreamstime_xl_27468386.jpg, error: HTTPSConnectionPool(host='tpwmagazine.com', port=443): Max retries exceeded with url: /archive/2022/jan/scout11b_r3/img/dreamstime_xl_27468386.jpg (Caused by SSLError(SSLCertVerificationError(1, '[SSL: CERTIFICATE_VERIFY_FAILED] certificate verify failed: unable to get local issuer certificate (_ssl.c:1016)'))), remaining retry times: 2\n",
            "ERROR:downloader:Exception caught when downloading file https://tpwmagazine.com/archive/2022/jan/scout11b_r3/img/dreamstime_xl_27468386.jpg, error: HTTPSConnectionPool(host='tpwmagazine.com', port=443): Max retries exceeded with url: /archive/2022/jan/scout11b_r3/img/dreamstime_xl_27468386.jpg (Caused by SSLError(SSLCertVerificationError(1, '[SSL: CERTIFICATE_VERIFY_FAILED] certificate verify failed: unable to get local issuer certificate (_ssl.c:1016)'))), remaining retry times: 1\n",
            "ERROR:downloader:Exception caught when downloading file https://tpwmagazine.com/archive/2022/jan/scout11b_r3/img/dreamstime_xl_27468386.jpg, error: HTTPSConnectionPool(host='tpwmagazine.com', port=443): Max retries exceeded with url: /archive/2022/jan/scout11b_r3/img/dreamstime_xl_27468386.jpg (Caused by SSLError(SSLCertVerificationError(1, '[SSL: CERTIFICATE_VERIFY_FAILED] certificate verify failed: unable to get local issuer certificate (_ssl.c:1016)'))), remaining retry times: 0\n",
            "ERROR:downloader:Response status code 404, file https://blog.meyerhatchery.com/wp-content/uploads/2024/01/Diver-and-Dabbler-Ducks-2-jpg\n",
            "ERROR:downloader:Response status code 401, file https://images.birdfact.com/production/ducks-in-flight.jpg\n",
            "ERROR:downloader:Response status code 401, file https://i.guim.co.uk/img/media/5b04589500aebf6d2316b94cbf8baf8e06d223e9/0_150_2999_1799/master/2999.jpg\n",
            "ERROR:downloader:Response status code 401, file https://images.birdfact.com/production/where-do-ducks-sleep.jpg\n",
            "ERROR:downloader:Response status code 403, file https://preview.redd.it/guys-please-dont-stress-over-university-here-have-a-duck-i-v0-0o2ybowh3gwb1.jpg\n",
            "ERROR:downloader:Response status code 404, file https://upload.wikimedia.org/wikipedia/commons/thumb/9/94/Orpington_Duck_2014-10-20_001.jpg\n",
            "ERROR:downloader:Response status code 403, file https://www.crittercontrol.com/crittercontrol/ducks-for-identification.jpg\n",
            "ERROR:downloader:Response status code 400, file https://media.istockphoto.com/id/464988959/photo/mallard-duck-on-white-background.jpg\n",
            "ERROR:downloader:Response status code 403, file https://rspcaapproved.org.au/wp-content/uploads/2022/10/Indoor-ducks-banner-image.png\n",
            "ERROR:downloader:Response status code 403, file https://hgtvhome.sndimg.com/content/dam/images/grdn/fullset/2014/8/11/0/Original_orig-photo-line-of-sitting-ducks.jpg\n",
            "ERROR:downloader:Response status code 401, file https://images.birdfact.com/production/what-is-a-group-of-ducks-called_2023-11-23-115158_mvrd.jpg\n",
            "ERROR:downloader:Response status code 403, file http://www.w3.org/2000/svg\"><path fill=\"#4285f4\" d=\"M23.49 12.27c0-.79-.07-1.54-.19-2.27H12v4.51h6.47c-.29 1.48-1.14 2.73-2.4 3.58v3h3.86c2.26-2.09 3.56-5.17 3.56-8.82z\"></path><path fill=\"#34a853\" d=\"M12 24c3.24 0 5.95-1.08 7.93-2.91l-3.86-3c-1.08.72-2.45 1.16-4.07 1.16-3.13 0-5.78-2.11-6.73-4.96H1.29v3.09C3.26 21.3 7.31 24 12 24z\"></path><path fill=\"#fbbc04\" d=\"M5.27 14.29c-.25-.72-.38-1.49-.38-2.29s.14-1.57.38-2.29V6.62H1.29C.47 8.24 0 10.06 0 12s.47 3.76 1.29 5.38l3.98-3.09z\"></path><path fill=\"#ea4335\" d=\"M12 4.75c1.77 0 3.35.61 4.6 1.8l3.42-3.42C17.95 1.19 15.24 0 12 0 7.31 0 3.26 2.7 1.29 6.62l3.98 3.09c.95-2.85 3.6-4.96 6.73-4.96z\"></path></svg>');})();(function(){window.jsl.dh('_nzICaLrJKsWjur8Pv-TSiQU_10','<span class=\"Job8vb z1asCe wuXmqc\" aria-label=\"关闭“选择您要针对哪个元素提供反馈”\" role=\"button\" tabindex=\"0\" jsaction=\"kEOk4d\" style=\"height:20px;line-height:20px;width:20px\" data-ved=\"0ahUKEwj6lNXHuOGMAxXFke4BHT-yNFEQmIkGCBY\"><svg focusable=\"false\" xmlns=\"http://www.w3.org/2000/svg\" viewBox=\"0 0 24 24\"><path d=\"M19 6.41L17.59 5 12 10.59 6.41 5 5 6.41 10.59 12 5 17.59 6.41 19 12 13.41 17.59 19 19 17.59 13.41 12z\"></path></svg></span><div class=\"C85rO\" aria-level=\"1\" role=\"heading\">选择您要针对哪个元素提供反馈</div>');})();(function(){window.jsl.dh('_nzICaLrJKsWjur8Pv-TSiQU_12','<span class=\"z1asCe E9hVAb\"><svg focusable=\"false\" xmlns=\"http://www.w3.org/2000/svg\" viewBox=\"0 0 24 24\"><path d=\"M13.85 22.25h-3.7c-.74 0-1.36-.54-1.45-1.27l-.27-1.89c-.27-.14-.53-.29-.79-.46l-1.8.72c-.7.26-1.47-.03-1.81-.65L2.2 15.53c-.35-.66-.2-1.44.36-1.88l1.53-1.19c-.01-.15-.02-.3-.02-.46 0-.15.01-.31.02-.46l-1.52-1.19c-.59-.45-.74-1.26-.37-1.88l1.85-3.19c.34-.62 1.11-.9 1.79-.63l1.81.73c.26-.17.52-.32.78-.46l.27-1.91c.09-.7.71-1.25 1.44-1.25h3.7c.74 0 1.36.54 1.45 1.27l.27 1.89c.27.14.53.29.79.46l1.8-.72c.71-.26 1.48.03 1.82.65l1.84 3.18c.36.66.2 1.44-.36 1.88l-1.52 1.19c.01.15.02.3.02.46s-.01.31-.02.46l1.52 1.19c.56.45.72 1.23.37 1.86l-1.86 3.22c-.34.62-1.11.9-1.8.63l-1.8-.72c-.26.17-.52.32-.78.46l-.27 1.91c-.1.68-.72 1.22-1.46 1.22zm-3.23-2h2.76l.37-2.55.53-.22c.44-.18.88-.44 1.34-.78l.45-.34 2.38.96 1.38-2.4-2.03-1.58.07-.56c.03-.26.06-.51.06-.78s-.03-.53-.06-.78l-.07-.56 2.03-1.58-1.39-2.4-2.39.96-.45-.35c-.42-.32-.87-.58-1.33-.77l-.52-.22-.37-2.55h-2.76l-.37 2.55-.53.21c-.44.19-.88.44-1.34.79l-.45.33-2.38-.95-1.39 2.39 2.03 1.58-.07.56a7 7 0 0 0-.06.79c0 .26.02.53.06.78l.07.56-2.03 1.58 1.38 2.4 2.39-.96.45.35c.43.33.86.58 1.33.77l.53.22.38 2.55z\"></path><circle cx=\"12\" cy=\"12\" r=\"3.5\"></circle></svg></span><div jsname=\"suEOdc\" class=\"ZOyvub\">快捷设置</div>');})();(function(){window.jsl.dh('_nzICaLrJKsWjur8Pv-TSiQU_38','<div class=\"LtmTod\" id=\"nzICaLrJKsWjur8Pv-TSiQU__9\"></div><div class=\"LtmTod\" id=\"nzICaLrJKsWjur8Pv-TSiQU__10\"></div><div class=\"LtmTod\" id=\"nzICaLrJKsWjur8Pv-TSiQU__11\"></div><div class=\"LtmTod\" id=\"nzICaLrJKsWjur8Pv-TSiQU__12\"></div>');})();(function(){window.jsl.dh('nzICaLrJKsWjur8Pv-TSiQU__9','<div class=\"bsmXxe\" id=\"nzICaLrJKsWjur8Pv-TSiQU__9\"></div>');})();(function(){window.jsl.dh('nzICaLrJKsWjur8Pv-TSiQU__10','<div class=\"bsmXxe\" id=\"nzICaLrJKsWjur8Pv-TSiQU__10\"></div>');})();(function(){window.jsl.dh('nzICaLrJKsWjur8Pv-TSiQU__11','<div class=\"bsmXxe\" id=\"nzICaLrJKsWjur8Pv-TSiQU__11\"></div>');})();(function(){window.jsl.dh('nzICaLrJKsWjur8Pv-TSiQU__12','<div class=\"bsmXxe\" id=\"nzICaLrJKsWjur8Pv-TSiQU__12\"></div>');})();(function(){window.jsl.dh('tools_nzICaLrJKsWjur8Pv-TSiQU_1','<div class=\"BaegVc YmvwI\" id=\"hdtb-tls\" aria-controls=\"hdtbMenus\" aria-expanded=\"false\" role=\"button\" tabindex=\"0\" jsname=\"bVqjv\" data-ved=\"2ahUKEwj6lNXHuOGMAxXFke4BHT-yNFEQ2x96BAgHEAQ\">工具</div>');})();(function(){window.jsl.dh('tn_nzICaLrJKsWjur8Pv-TSiQU_1','<div class=\"IpUXPc\"></div><span jscontroller=\"nabPbb\" data-ffp=\"false\" jsaction=\"KyPa0e:Y0y4c;wjOG7e:gDkf4c;\"><g-popup jsname=\"V68bde\" jscontroller=\"DPreE\" jsaction=\"A05xBd:IYtByb;EOZ57e:WFrRFb;\" jsdata=\"mVjAjf;_;AXo0Hw\"><div jsname=\"oYxtQd\" class=\"CcNe6e\" aria-expanded=\"false\" aria-haspopup=\"true\" role=\"button\" tabindex=\"0\" jsaction=\"WFrRFb;keydown:uYT2Vb\"><div jsname=\"LgbsSe\"><div class=\"AozSsc Yg3U7e\"><div class=\"KTBKoe\">大小</div><span class=\"gTl8xb\"></span></div></div></div><div jsname=\"V68bde\" class=\"UjBGL pkWBse iRQHZe\" style=\"display:none;z-index:200\"><g-menu jsname=\"xl07Ob\" class=\"cF4V5c Tlae9d yTik0 PBn44e iQXTJe wplJBd\" jscontroller=\"WlNQGd\" role=\"menu\" tabindex=\"-1\" jsaction=\"PSl28c;focus:h06R8;keydown:uYT2Vb;mouseenter:WOQqYb;mouseleave:Tx5Rb;mouseover:IgJl9c\"><g-menu-item jsname=\"NNJLud\" class=\"nvELY EpPYLd GZnQqe\" jscontroller=\"CnSW2d\" role=\"none\" data-short-label=\"\" jsdata=\"zPXzie;_;AXo0H0\"><div jsname=\"ibnC6b\" class=\"YpcDnf OSrXXb HG1dvd\" role=\"none\"><div class=\"y0fQ9c\" aria-checked=\"true\" role=\"menuitemradio\" tabindex=\"0\">任意尺寸</div></div></g-menu-item><g-menu-item jsname=\"NNJLud\" jscontroller=\"CnSW2d\" class=\"EpPYLd GZnQqe\" role=\"none\" data-short-label=\"\" jsdata=\"zPXzie;_;AXo0H0\"><div jsname=\"ibnC6b\" class=\"YpcDnf OSrXXb HG1dvd\" role=\"none\"><a href=\"/search?q=duck&amp;sca_esv=ec1c0fa4563bd641&amp;udm=2&amp;source=lnt&amp;tbs=isz:l&amp;sa=X&amp;ved=2ahUKEwj6lNXHuOGMAxXFke4BHT-yNFEQpwV6BAgBEAc\" aria-checked=\"false\" role=\"menuitemradio\">大尺寸</a></div></g-menu-item><g-menu-item jsname=\"NNJLud\" jscontroller=\"CnSW2d\" class=\"EpPYLd GZnQqe\" role=\"none\" data-short-label=\"\" jsdata=\"zPXzie;_;AXo0H0\"><div jsname=\"ibnC6b\" class=\"YpcDnf OSrXXb HG1dvd\" role=\"none\"><a href=\"/search?q=duck&amp;sca_esv=ec1c0fa4563bd641&amp;udm=2&amp;source=lnt&amp;tbs=isz:m&amp;sa=X&amp;ved=2ahUKEwj6lNXHuOGMAxXFke4BHT-yNFEQpwV6BAgBEAg\" aria-checked=\"false\" role=\"menuitemradio\">中尺寸</a></div></g-menu-item><g-menu-item jsname=\"NNJLud\" jscontroller=\"CnSW2d\" class=\"EpPYLd GZnQqe\" role=\"none\" data-short-label=\"\" jsdata=\"zPXzie;_;AXo0H0\"><div jsname=\"ibnC6b\" class=\"YpcDnf OSrXXb HG1dvd\" role=\"none\"><a href=\"/search?q=duck&amp;sca_esv=ec1c0fa4563bd641&amp;udm=2&amp;source=lnt&amp;tbs=isz:i&amp;sa=X&amp;ved=2ahUKEwj6lNXHuOGMAxXFke4BHT-yNFEQpwV6BAgBEAk\" aria-checked=\"false\" role=\"menuitemradio\">图标</a></div></g-menu-item></g-menu></div></g-popup></span><span jscontroller=\"nabPbb\" data-ffp=\"false\" jsaction=\"KyPa0e:Y0y4c;wjOG7e:gDkf4c;\"><g-popup jsname=\"V68bde\" jscontroller=\"DPreE\" jsaction=\"A05xBd:IYtByb;EOZ57e:WFrRFb;\" jsdata=\"mVjAjf;_;AXo0Hw\"><div jsname=\"oYxtQd\" class=\"CcNe6e\" aria-expanded=\"false\" aria-haspopup=\"true\" role=\"button\" tabindex=\"0\" jsaction=\"WFrRFb;keydown:uYT2Vb\"><div jsname=\"LgbsSe\"><div class=\"AozSsc\"><div class=\"KTBKoe\">颜色</div><span class=\"gTl8xb\"></span></div></div></div><div jsname=\"V68bde\" class=\"UjBGL pkWBse iRQHZe\" style=\"display:none;z-index:200\"><g-menu jsname=\"xl07Ob\" class=\"cF4V5c Tlae9d VjaYnc yTik0 PBn44e iQXTJe wplJBd\" jscontroller=\"WlNQGd\" role=\"menu\" tabindex=\"-1\" jsaction=\"PSl28c;focus:h06R8;keydown:uYT2Vb;mouseenter:WOQqYb;mouseleave:Tx5Rb;mouseover:IgJl9c\"><g-menu-item jsname=\"NNJLud\" class=\"nvELY GYItL EpPYLd GZnQqe\" jscontroller=\"CnSW2d\" role=\"none\" data-short-label=\"\" jsdata=\"zPXzie;_;AXo0H0\"><div jsname=\"ibnC6b\" class=\"YpcDnf OSrXXb HG1dvd\" role=\"none\"><div class=\"y0fQ9c\" aria-checked=\"true\" role=\"menuitemradio\" tabindex=\"0\">所有颜色</div></div></g-menu-item><g-menu-item jsname=\"NNJLud\" class=\"GYItL EpPYLd GZnQqe\" jscontroller=\"CnSW2d\" role=\"none\" data-short-label=\"\" jsdata=\"zPXzie;_;AXo0H0\"><div jsname=\"ibnC6b\" class=\"YpcDnf OSrXXb HG1dvd\" role=\"none\"><a href=\"/search?q=duck&amp;sca_esv=ec1c0fa4563bd641&amp;udm=2&amp;source=lnt&amp;tbs=ic:gray&amp;sa=X&amp;ved=2ahUKEwj6lNXHuOGMAxXFke4BHT-yNFEQpwV6BAgBEA4\" aria-checked=\"false\" role=\"menuitemradio\">黑白图片</a></div></g-menu-item><g-menu-item jsname=\"NNJLud\" class=\"GYItL EpPYLd GZnQqe\" jscontroller=\"CnSW2d\" role=\"none\" data-short-label=\"\" jsdata=\"zPXzie;_;AXo0H0\"><div jsname=\"ibnC6b\" class=\"YpcDnf OSrXXb HG1dvd\" role=\"none\"><a href=\"/search?q=duck&amp;sca_esv=ec1c0fa4563bd641&amp;udm=2&amp;source=lnt&amp;tbs=ic:trans&amp;sa=X&amp;ved=2ahUKEwj6lNXHuOGMAxXFke4BHT-yNFEQpwV6BAgBEA8\" aria-checked=\"false\" role=\"menuitemradio\">透明</a></div></g-menu-item><g-menu-item jsname=\"NNJLud\" class=\"YEwocc EpPYLd GZnQqe\" jscontroller=\"CnSW2d\" role=\"none\" data-short-label=\"\" jsdata=\"zPXzie;_;AXo0H0\"><div jsname=\"ibnC6b\" class=\"YpcDnf OSrXXb HG1dvd\" role=\"none\"><div class=\"LF7Lfe\"><a class=\"aWSvdc G24hvd\" aria-label=\"红色\" href=\"/search?q=duck&amp;sca_esv=ec1c0fa4563bd641&amp;udm=2&amp;source=lnt&amp;tbs=ic:specific,isc:red&amp;sa=X&amp;ved=2ahUKEwj6lNXHuOGMAxXFke4BHT-yNFEQpwV6BAgBEBA\" style=\"background:#c00\" title=\"红色\" role=\"menuitem\" tabindex=\"-1\"></a></div></div></g-menu-item><g-menu-item jsname=\"NNJLud\" class=\"YEwocc EpPYLd GZnQqe\" jscontroller=\"CnSW2d\" role=\"none\" data-short-label=\"\" jsdata=\"zPXzie;_;AXo0H0\"><div jsname=\"ibnC6b\" class=\"YpcDnf OSrXXb HG1dvd\" role=\"none\"><div class=\"LF7Lfe\"><a class=\"aWSvdc G24hvd\" aria-label=\"橙色\" href=\"/search?q=duck&amp;sca_esv=ec1c0fa4563bd641&amp;udm=2&amp;source=lnt&amp;tbs=ic:specific,isc:orange&amp;sa=X&amp;ved=2ahUKEwj6lNXHuOGMAxXFke4BHT-yNFEQpwV6BAgBEBE\" style=\"background:#fb940b\" title=\"橙色\" role=\"menuitem\" tabindex=\"-1\"></a></div></div></g-menu-item><g-menu-item jsname=\"NNJLud\" class=\"YEwocc EpPYLd GZnQqe\" jscontroller=\"CnSW2d\" role=\"none\" data-short-label=\"\" jsdata=\"zPXzie;_;AXo0H0\"><div jsname=\"ibnC6b\" class=\"YpcDnf OSrXXb HG1dvd\" role=\"none\"><div class=\"LF7Lfe\"><a class=\"aWSvdc G24hvd\" aria-label=\"黄色\" href=\"/search?q=duck&amp;sca_esv=ec1c0fa4563bd641&amp;udm=2&amp;source=lnt&amp;tbs=ic:specific,isc:yellow&amp;sa=X&amp;ved=2ahUKEwj6lNXHuOGMAxXFke4BHT-yNFEQpwV6BAgBEBI\" style=\"background:#ff0\" title=\"黄色\" role=\"menuitem\" tabindex=\"-1\"></a></div></div></g-menu-item><g-menu-item jsname=\"NNJLud\" class=\"YEwocc EpPYLd GZnQqe\" jscontroller=\"CnSW2d\" role=\"none\" data-short-label=\"\" jsdata=\"zPXzie;_;AXo0H0\"><div jsname=\"ibnC6b\" class=\"YpcDnf OSrXXb HG1dvd\" role=\"none\"><div class=\"LF7Lfe\"><a class=\"aWSvdc G24hvd\" aria-label=\"绿色\" href=\"/search?q=duck&amp;sca_esv=ec1c0fa4563bd641&amp;udm=2&amp;source=lnt&amp;tbs=ic:specific,isc:green&amp;sa=X&amp;ved=2ahUKEwj6lNXHuOGMAxXFke4BHT-yNFEQpwV6BAgBEBM\" style=\"background:#0c0\" title=\"绿色\" role=\"menuitem\" tabindex=\"-1\"></a></div></div></g-menu-item><g-menu-item jsname=\"NNJLud\" class=\"YEwocc EpPYLd GZnQqe\" jscontroller=\"CnSW2d\" role=\"none\" data-short-label=\"\" jsdata=\"zPXzie;_;AXo0H0\"><div jsname=\"ibnC6b\" class=\"YpcDnf OSrXXb HG1dvd\" role=\"none\"><div class=\"LF7Lfe\"><a class=\"aWSvdc G24hvd\" aria-label=\"蓝绿色\" href=\"/search?q=duck&amp;sca_esv=ec1c0fa4563bd641&amp;udm=2&amp;source=lnt&amp;tbs=ic:specific,isc:teal&amp;sa=X&amp;ved=2ahUKEwj6lNXHuOGMAxXFke4BHT-yNFEQpwV6BAgBEBQ\" style=\"background:#03c0c6\" title=\"蓝绿色\" role=\"menuitem\" tabindex=\"-1\"></a></div></div></g-menu-item><g-menu-item jsname=\"NNJLud\" class=\"YEwocc EpPYLd GZnQqe\" jscontroller=\"CnSW2d\" role=\"none\" data-short-label=\"\" jsdata=\"zPXzie;_;AXo0H0\"><div jsname=\"ibnC6b\" class=\"YpcDnf OSrXXb HG1dvd\" role=\"none\"><div class=\"LF7Lfe\"><a class=\"aWSvdc G24hvd\" aria-label=\"蓝色\" href=\"/search?q=duck&amp;sca_esv=ec1c0fa4563bd641&amp;udm=2&amp;source=lnt&amp;tbs=ic:specific,isc:blue&amp;sa=X&amp;ved=2ahUKEwj6lNXHuOGMAxXFke4BHT-yNFEQpwV6BAgBEBU\" style=\"background:#00f\" title=\"蓝色\" role=\"menuitem\" tabindex=\"-1\"></a></div></div></g-menu-item><g-menu-item jsname=\"NNJLud\" class=\"YEwocc EpPYLd GZnQqe\" jscontroller=\"CnSW2d\" role=\"none\" data-short-label=\"\" jsdata=\"zPXzie;_;AXo0H0\"><div jsname=\"ibnC6b\" class=\"YpcDnf OSrXXb HG1dvd\" role=\"none\"><div class=\"LF7Lfe\"><a class=\"aWSvdc G24hvd\" aria-label=\"紫色\" href=\"/search?q=duck&amp;sca_esv=ec1c0fa4563bd641&amp;udm=2&amp;source=lnt&amp;tbs=ic:specific,isc:purple&amp;sa=X&amp;ved=2ahUKEwj6lNXHuOGMAxXFke4BHT-yNFEQpwV6BAgBEBY\" style=\"background:#762ca7\" title=\"紫色\" role=\"menuitem\" tabindex=\"-1\"></a></div></div></g-menu-item><g-menu-item jsname=\"NNJLud\" class=\"YEwocc EpPYLd GZnQqe\" jscontroller=\"CnSW2d\" role=\"none\" data-short-label=\"\" jsdata=\"zPXzie;_;AXo0H0\"><div jsname=\"ibnC6b\" class=\"YpcDnf OSrXXb HG1dvd\" role=\"none\"><div class=\"LF7Lfe\"><a class=\"aWSvdc G24hvd\" aria-label=\"粉红色\" href=\"/search?q=duck&amp;sca_esv=ec1c0fa4563bd641&amp;udm=2&amp;source=lnt&amp;tbs=ic:specific,isc:pink&amp;sa=X&amp;ved=2ahUKEwj6lNXHuOGMAxXFke4BHT-yNFEQpwV6BAgBEBc\" style=\"background:#ff98bf\" title=\"粉红色\" role=\"menuitem\" tabindex=\"-1\"></a></div></div></g-menu-item><g-menu-item jsname=\"NNJLud\" class=\"YEwocc EpPYLd GZnQqe\" jscontroller=\"CnSW2d\" role=\"none\" data-short-label=\"\" jsdata=\"zPXzie;_;AXo0H0\"><div jsname=\"ibnC6b\" class=\"YpcDnf OSrXXb HG1dvd\" role=\"none\"><div class=\"LF7Lfe\"><a class=\"aWSvdc G24hvd\" aria-label=\"白色\" href=\"/search?q=duck&amp;sca_esv=ec1c0fa4563bd641&amp;udm=2&amp;source=lnt&amp;tbs=ic:specific,isc:white&amp;sa=X&amp;ved=2ahUKEwj6lNXHuOGMAxXFke4BHT-yNFEQpwV6BAgBEBg\" style=\"background:#fff\" title=\"白色\" role=\"menuitem\" tabindex=\"-1\"></a></div></div></g-menu-item><g-menu-item jsname=\"NNJLud\" class=\"YEwocc EpPYLd GZnQqe\" jscontroller=\"CnSW2d\" role=\"none\" data-short-label=\"\" jsdata=\"zPXzie;_;AXo0H0\"><div jsname=\"ibnC6b\" class=\"YpcDnf OSrXXb HG1dvd\" role=\"none\"><div class=\"LF7Lfe\"><a class=\"aWSvdc G24hvd\" aria-label=\"灰色\" href=\"/search?q=duck&amp;sca_esv=ec1c0fa4563bd641&amp;udm=2&amp;source=lnt&amp;tbs=ic:specific,isc:gray&amp;sa=X&amp;ved=2ahUKEwj6lNXHuOGMAxXFke4BHT-yNFEQpwV6BAgBEBk\" style=\"background:#999\" title=\"灰色\" role=\"menuitem\" tabindex=\"-1\"></a></div></div></g-menu-item><g-menu-item jsname=\"NNJLud\" class=\"YEwocc EpPYLd GZnQqe\" jscontroller=\"CnSW2d\" role=\"none\" data-short-label=\"\" jsdata=\"zPXzie;_;AXo0H0\"><div jsname=\"ibnC6b\" class=\"YpcDnf OSrXXb HG1dvd\" role=\"none\"><div class=\"LF7Lfe\"><a class=\"aWSvdc G24hvd\" aria-label=\"黑色\" href=\"/search?q=duck&amp;sca_esv=ec1c0fa4563bd641&amp;udm=2&amp;source=lnt&amp;tbs=ic:specific,isc:black&amp;sa=X&amp;ved=2ahUKEwj6lNXHuOGMAxXFke4BHT-yNFEQpwV6BAgBEBo\" style=\"background:#000\" title=\"黑色\" role=\"menuitem\" tabindex=\"-1\"></a></div></div></g-menu-item><g-menu-item jsname=\"NNJLud\" class=\"YEwocc EpPYLd GZnQqe\" jscontroller=\"CnSW2d\" role=\"none\" data-short-label=\"\" jsdata=\"zPXzie;_;AXo0H0\"><div jsname=\"ibnC6b\" class=\"YpcDnf OSrXXb HG1dvd\" role=\"none\"><div class=\"LF7Lfe\"><a class=\"aWSvdc G24hvd\" aria-label=\"棕色\" href=\"/search?q=duck&amp;sca_esv=ec1c0fa4563bd641&amp;udm=2&amp;source=lnt&amp;tbs=ic:specific,isc:brown&amp;sa=X&amp;ved=2ahUKEwj6lNXHuOGMAxXFke4BHT-yNFEQpwV6BAgBEBs\" style=\"background:#885418\" title=\"棕色\" role=\"menuitem\" tabindex=\"-1\"></a></div></div></g-menu-item></g-menu></div></g-popup></span><span jscontroller=\"nabPbb\" data-ffp=\"false\" jsaction=\"KyPa0e:Y0y4c;wjOG7e:gDkf4c;\"><g-popup jsname=\"V68bde\" jscontroller=\"DPreE\" jsaction=\"A05xBd:IYtByb;EOZ57e:WFrRFb;\" jsdata=\"mVjAjf;_;AXo0Hw\"><div jsname=\"oYxtQd\" class=\"CcNe6e\" aria-expanded=\"false\" aria-haspopup=\"true\" role=\"button\" tabindex=\"0\" jsaction=\"WFrRFb;keydown:uYT2Vb\"><div jsname=\"LgbsSe\"><div class=\"AozSsc\"><div class=\"KTBKoe\">使用权限</div><span class=\"gTl8xb\"></span></div></div></div><div jsname=\"V68bde\" class=\"UjBGL pkWBse iRQHZe\" style=\"display:none;z-index:200\"><g-menu jsname=\"xl07Ob\" class=\"cF4V5c Tlae9d yTik0 PBn44e iQXTJe wplJBd\" jscontroller=\"WlNQGd\" role=\"menu\" tabindex=\"-1\" jsaction=\"PSl28c;focus:h06R8;keydown:uYT2Vb;mouseenter:WOQqYb;mouseleave:Tx5Rb;mouseover:IgJl9c\"><g-menu-item jsname=\"NNJLud\" class=\"nvELY EpPYLd GZnQqe\" jscontroller=\"CnSW2d\" role=\"none\" data-short-label=\"\" jsdata=\"zPXzie;_;AXo0H0\"><div jsname=\"ibnC6b\" class=\"YpcDnf OSrXXb HG1dvd\" role=\"none\"><div class=\"y0fQ9c\" aria-checked=\"true\" role=\"menuitemradio\" tabindex=\"0\">不限使用权限</div></div></g-menu-item><g-menu-item jsname=\"NNJLud\" jscontroller=\"CnSW2d\" class=\"EpPYLd GZnQqe\" role=\"none\" data-short-label=\"\" jsdata=\"zPXzie;_;AXo0H0\"><div jsname=\"ibnC6b\" class=\"YpcDnf OSrXXb HG1dvd\" role=\"none\"><a href=\"/search?q=duck&amp;sca_esv=ec1c0fa4563bd641&amp;udm=2&amp;source=lnt&amp;tbs=sur:cl&amp;sa=X&amp;ved=2ahUKEwj6lNXHuOGMAxXFke4BHT-yNFEQpwV6BAgBECA\" aria-checked=\"false\" role=\"menuitemradio\">知识共享许可</a></div></g-menu-item><g-menu-item jsname=\"NNJLud\" jscontroller=\"CnSW2d\" class=\"EpPYLd GZnQqe\" role=\"none\" data-short-label=\"\" jsdata=\"zPXzie;_;AXo0H0\"><div jsname=\"ibnC6b\" class=\"YpcDnf OSrXXb HG1dvd\" role=\"none\"><a href=\"/search?q=duck&amp;sca_esv=ec1c0fa4563bd641&amp;udm=2&amp;source=lnt&amp;tbs=sur:ol&amp;sa=X&amp;ved=2ahUKEwj6lNXHuOGMAxXFke4BHT-yNFEQpwV6BAgBECE\" aria-checked=\"false\" role=\"menuitemradio\">商业许可和其他许可</a></div></g-menu-item></g-menu></div></g-popup></span><span jscontroller=\"nabPbb\" data-ffp=\"false\" jsaction=\"KyPa0e:Y0y4c;wjOG7e:gDkf4c;\"><g-popup jsname=\"V68bde\" jscontroller=\"DPreE\" jsaction=\"A05xBd:IYtByb;EOZ57e:WFrRFb;\" jsdata=\"mVjAjf;_;AXo0Hw\"><div jsname=\"oYxtQd\" class=\"CcNe6e\" aria-expanded=\"false\" aria-haspopup=\"true\" role=\"button\" tabindex=\"0\" jsaction=\"WFrRFb;keydown:uYT2Vb\"><div jsname=\"LgbsSe\"><div class=\"AozSsc\"><div class=\"KTBKoe\">类型</div><span class=\"gTl8xb\"></span></div></div></div><div jsname=\"V68bde\" class=\"UjBGL pkWBse iRQHZe\" style=\"display:none;z-index:200\"><g-menu jsname=\"xl07Ob\" class=\"cF4V5c Tlae9d yTik0 PBn44e iQXTJe wplJBd\" jscontroller=\"WlNQGd\" role=\"menu\" tabindex=\"-1\" jsaction=\"PSl28c;focus:h06R8;keydown:uYT2Vb;mouseenter:WOQqYb;mouseleave:Tx5Rb;mouseover:IgJl9c\"><g-menu-item jsname=\"NNJLud\" class=\"nvELY EpPYLd GZnQqe\" jscontroller=\"CnSW2d\" role=\"none\" data-short-label=\"\" jsdata=\"zPXzie;_;AXo0H0\"><div jsname=\"ibnC6b\" class=\"YpcDnf OSrXXb HG1dvd\" role=\"none\"><div class=\"y0fQ9c\" aria-checked=\"true\" role=\"menuitemradio\" tabindex=\"0\">任何类型</div></div></g-menu-item><g-menu-item jsname=\"NNJLud\" jscontroller=\"CnSW2d\" class=\"EpPYLd GZnQqe\" role=\"none\" data-short-label=\"\" jsdata=\"zPXzie;_;AXo0H0\"><div jsname=\"ibnC6b\" class=\"YpcDnf OSrXXb HG1dvd\" role=\"none\"><a href=\"/search?q=duck&amp;sca_esv=ec1c0fa4563bd641&amp;udm=2&amp;source=lnt&amp;tbs=itp:clipart&amp;sa=X&amp;ved=2ahUKEwj6lNXHuOGMAxXFke4BHT-yNFEQpwV6BAgBECY\" aria-checked=\"false\" role=\"menuitemradio\">剪贴画</a></div></g-menu-item><g-menu-item jsname=\"NNJLud\" jscontroller=\"CnSW2d\" class=\"EpPYLd GZnQqe\" role=\"none\" data-short-label=\"\" jsdata=\"zPXzie;_;AXo0H0\"><div jsname=\"ibnC6b\" class=\"YpcDnf OSrXXb HG1dvd\" role=\"none\"><a href=\"/search?q=duck&amp;sca_esv=ec1c0fa4563bd641&amp;udm=2&amp;source=lnt&amp;tbs=itp:lineart&amp;sa=X&amp;ved=2ahUKEwj6lNXHuOGMAxXFke4BHT-yNFEQpwV6BAgBECc\" aria-checked=\"false\" role=\"menuitemradio\">素描画</a></div></g-menu-item><g-menu-item jsname=\"NNJLud\" jscontroller=\"CnSW2d\" class=\"EpPYLd GZnQqe\" role=\"none\" data-short-label=\"\" jsdata=\"zPXzie;_;AXo0H0\"><div jsname=\"ibnC6b\" class=\"YpcDnf OSrXXb HG1dvd\" role=\"none\"><a href=\"/search?q=duck&amp;sca_esv=ec1c0fa4563bd641&amp;udm=2&amp;source=lnt&amp;tbs=itp:animated&amp;sa=X&amp;ved=2ahUKEwj6lNXHuOGMAxXFke4BHT-yNFEQpwV6BAgBECg\" aria-checked=\"false\" role=\"menuitemradio\">GIF</a></div></g-menu-item></g-menu></div></g-popup></span><span jscontroller=\"nabPbb\" data-ffp=\"false\" jsaction=\"KyPa0e:Y0y4c;wjOG7e:gDkf4c;\"><g-popup jsname=\"V68bde\" jscontroller=\"DPreE\" jsaction=\"A05xBd:IYtByb;EOZ57e:WFrRFb;\" jsdata=\"mVjAjf;_;AXo0Hw\"><div jsname=\"oYxtQd\" class=\"CcNe6e\" aria-expanded=\"false\" aria-haspopup=\"true\" role=\"button\" tabindex=\"0\" jsaction=\"WFrRFb;keydown:uYT2Vb\"><div jsname=\"LgbsSe\"><div class=\"AozSsc\"><div class=\"KTBKoe\">时间不限</div><span class=\"gTl8xb\"></span></div></div></div><div jsname=\"V68bde\" class=\"UjBGL pkWBse iRQHZe\" style=\"display:none;z-index:200\"><g-menu jsname=\"xl07Ob\" class=\"cF4V5c Tlae9d yTik0 PBn44e iQXTJe wplJBd\" jscontroller=\"WlNQGd\" role=\"menu\" tabindex=\"-1\" jsaction=\"PSl28c;focus:h06R8;keydown:uYT2Vb;mouseenter:WOQqYb;mouseleave:Tx5Rb;mouseover:IgJl9c\"><g-menu-item jsname=\"NNJLud\" class=\"nvELY EpPYLd GZnQqe\" jscontroller=\"CnSW2d\" role=\"none\" data-short-label=\"\" jsdata=\"zPXzie;_;AXo0H0\"><div jsname=\"ibnC6b\" class=\"YpcDnf OSrXXb HG1dvd\" role=\"none\"><div class=\"y0fQ9c\" aria-checked=\"true\" role=\"menuitemradio\" tabindex=\"0\">时间不限</div></div></g-menu-item><g-menu-item jsname=\"NNJLud\" jscontroller=\"CnSW2d\" class=\"EpPYLd GZnQqe\" role=\"none\" data-short-label=\"\" jsdata=\"zPXzie;_;AXo0H0\"><div jsname=\"ibnC6b\" class=\"YpcDnf OSrXXb HG1dvd\" role=\"none\"><a href=\"/search?q=duck&amp;sca_esv=ec1c0fa4563bd641&amp;udm=2&amp;source=lnt&amp;tbs=qdr:d&amp;sa=X&amp;ved=2ahUKEwj6lNXHuOGMAxXFke4BHT-yNFEQpwV6BAgBEC0\" aria-checked=\"false\" role=\"menuitemradio\"> 过去 24 小时内</a></div></g-menu-item><g-menu-item jsname=\"NNJLud\" jscontroller=\"CnSW2d\" class=\"EpPYLd GZnQqe\" role=\"none\" data-short-label=\"\" jsdata=\"zPXzie;_;AXo0H0\"><div jsname=\"ibnC6b\" class=\"YpcDnf OSrXXb HG1dvd\" role=\"none\"><a href=\"/search?q=duck&amp;sca_esv=ec1c0fa4563bd641&amp;udm=2&amp;source=lnt&amp;tbs=qdr:w&amp;sa=X&amp;ved=2ahUKEwj6lNXHuOGMAxXFke4BHT-yNFEQpwV6BAgBEC4\" aria-checked=\"false\" role=\"menuitemradio\"> 过去 1 周内</a></div></g-menu-item><g-menu-item jsname=\"NNJLud\" jscontroller=\"CnSW2d\" class=\"EpPYLd GZnQqe\" role=\"none\" data-short-label=\"\" jsdata=\"zPXzie;_;AXo0H0\"><div jsname=\"ibnC6b\" class=\"YpcDnf OSrXXb HG1dvd\" role=\"none\"><a href=\"/search?q=duck&amp;sca_esv=ec1c0fa4563bd641&amp;udm=2&amp;source=lnt&amp;tbs=qdr:m&amp;sa=X&amp;ved=2ahUKEwj6lNXHuOGMAxXFke4BHT-yNFEQpwV6BAgBEC8\" aria-checked=\"false\" role=\"menuitemradio\"> 过去 1 个月内</a></div></g-menu-item><g-menu-item jsname=\"NNJLud\" jscontroller=\"CnSW2d\" class=\"EpPYLd GZnQqe\" role=\"none\" data-short-label=\"\" jsdata=\"zPXzie;_;AXo0H0\"><div jsname=\"ibnC6b\" class=\"YpcDnf OSrXXb HG1dvd\" role=\"none\"><a href=\"/search?q=duck&amp;sca_esv=ec1c0fa4563bd641&amp;udm=2&amp;source=lnt&amp;tbs=qdr:y&amp;sa=X&amp;ved=2ahUKEwj6lNXHuOGMAxXFke4BHT-yNFEQpwV6BAgBEDA\" aria-checked=\"false\" role=\"menuitemradio\"> 过去 1 年内</a></div></g-menu-item><g-menu-item jsname=\"NNJLud\" jscontroller=\"CnSW2d\" class=\"EpPYLd GZnQqe\" role=\"none\" data-short-label=\"\" jsdata=\"zPXzie;_;AXo0H0\"><div jsname=\"ibnC6b\" class=\"YpcDnf OSrXXb HG1dvd\" role=\"none\"><div class=\"y0fQ9c\" jscontroller=\"VD4Qme\"><span jsaction=\"EEGHee;\" role=\"menuitem\" tabindex=\"-1\" data-ved=\"2ahUKEwj6lNXHuOGMAxXFke4BHT-yNFEQpwV6BAgBEDE\">自定日期范围...</span><g-dialog jsname=\"Fg3TAc\" jscontroller=\"VEbNoe\" jsaction=\"jxvro:Imgh9b;dBhwS:TvD9Pc;mLt3mc;KyPa0e:cRhSI;wjOG7e:cRhSI\" jsdata=\"gctHtc;_;AXo0H8\" jsshadow=\"\"><div jsname=\"XKSfm\"><div jsname=\"bF1uUb\" class=\"kJFf0c KUf18\"></div><div class=\"mcPPZ nP0TDe xg7rAe\" jsaction=\"trigger.dBhwS\"><div class=\"LjfRsf\" aria-hidden=\"true\" role=\"button\" tabindex=\"0\" jsaction=\"focus:sT2f3e\"></div><span jsslot=\"\" jsaction=\"mLt3mc\"><div class=\"qk7LXc TUOsUe Fb1AKc J6UZg\" role=\"dialog\" jsname=\"b6oohe\"><div class=\"Jy9Ore\" role=\"heading\">自定日期范围</div><label jsname=\"kJX8be\" class=\"Qtsmnf tmDYm\" for=\"OouJcb\">从</label><label jsname=\"RltH6b\" class=\"Qtsmnf iWBKNe\" for=\"rzG2be\">至</label><div class=\"Gwgzqd\" aria-label=\"关闭\" role=\"button\" tabindex=\"0\" jsaction=\"trigger.dBhwS\"></div><div class=\"NwEGxd\"><div class=\"qomYCd\"></div><form action=\"/search\" class=\"T3kYXe\" id=\"T3kYXe\" method=\"get\"><input name=\"q\" value=\"duck\" type=\"hidden\"><input name=\"sca_esv\" value=\"ec1c0fa4563bd641\" type=\"hidden\"><input name=\"udm\" value=\"2\" type=\"hidden\"><input name=\"source\" type=\"hidden\" value=\"lnt\"><input value=\"cdr:1,cd_min:x,cd_max:x\" id=\"HjtPBb\" name=\"tbs\" type=\"hidden\"><input value=\"\" name=\"tbm\" type=\"hidden\"><input class=\"OouJcb\" type=\"text\" value=\"\" autocomplete=\"off\" id=\"OouJcb\" jsaction=\"focus:daRB0b\"><input class=\"rzG2be\" type=\"text\" value=\"\" autocomplete=\"off\" id=\"rzG2be\" jsaction=\"focus:daRB0b\"><g-button class=\"Ru1Ao BwGU8e fE5Rge\" jsaction=\"hNEEAb\" role=\"button\" tabindex=\"0\">开始搜索</g-button><input type=\"submit\" jsaction=\"zbvklb\" style=\"display:none\"></form></div></div></span><div class=\"LjfRsf\" aria-hidden=\"true\" role=\"button\" tabindex=\"0\" jsaction=\"focus:tuePCd\"></div></div></div></g-dialog></div></div></g-menu-item></g-menu></div></g-popup></span><span> <a href=\"https://www.google.com/advanced_image_search?q=duck&amp;ijn=0&amp;udm=2&amp;tbs=\" ping=\"/url?sa=t&amp;source=web&amp;rct=j&amp;opi=89978449&amp;url=https://www.google.com/advanced_image_search%3Fq%3Dduck%26ijn%3D0%26udm%3D2%26tbs%3D&amp;ved=2ahUKEwj6lNXHuOGMAxXFke4BHT-yNFEQ7psIegQIARA0\"> <div class=\"AozSsc\"><span class=\"KTBKoe\">高级搜索</span></div> </a> </span>');})();(function(){window.jsl.dh('_nzICaLrJKsWjur8Pv-TSiQU_14','<div><div jscontroller=\"KSk4yc\" data-dl=\"0\" data-mcl=\"1250\" data-mwl=\"-1\" jsaction=\"PQkOHc:dK6tkc;fFzSRc:v9xSwd;lgFTO:Geh74d;kPzEO:MlP2je;qo5q4d:VvZoSb;LImAlc:VvZoSb;rcuQ6b:npT2md\" class=\"EyBRub\"><div jsname=\"suEOdc\" class=\"t4wgMc\" style=\"display:none;opacity:0;transform:scale(0.1)\" aria-hidden=\"true\" data-hveid=\"CAIQAA\" data-ved=\"2ahUKEwj6lNXHuOGMAxXFke4BHT-yNFEQrOkHegQIAhAA\"><div jsname=\"V4zgDf\" data-jiis=\"up\" data-async-type=\"ctxm\" id=\"nFiyle\" class=\"yp\" data-hveid=\"CAIQAQ\" data-ved=\"2ahUKEwj6lNXHuOGMAxXFke4BHT-yNFEQqukHegQIAhAB\"></div><svg jsname=\"ojBOCb\" class=\"kdCulb\"><polyline points=\"0,6 6,0 12,6\"></polyline></svg><svg jsname=\"GV5nwf\" class=\"LIxbuc\"><polyline points=\"0,0 6,6 12,0\"></polyline></svg><div jsname=\"Uo0pef\" class=\"p2Tgt\" style=\"display:none\">按 Ctrl+Shift+X 键即可选择</div></div></div></div>');})();(function(){window.jsl.dh('spic_nzICaLrJKsWjur8Pv-TSiQU_1','<div jsname=\"TItCJc\" class=\"CbAZb\" id=\"elPddd\" tabindex=\"-1\" jsaction=\"mLt3mc\" data-ved=\"2ahUKEwj6lNXHuOGMAxXFke4BHT-yNFEQzpwIegQIAhAD\"><div class=\"cQ2awd\"><img class=\"bsfygf\" src=\"https://fonts.gstatic.com/s/i/productlogos/googleg/v6/24px.svg\" alt=\"Google\"><h1 class=\"S8wJ3\">搜索设置</h1><span class=\"bepeF z1asCe wuXmqc\" aria-label=\"Close\" role=\"button\" tabindex=\"0\" jsaction=\"UVNdjb\" data-ved=\"2ahUKEwj6lNXHuOGMAxXFke4BHT-yNFEQy9QJegQIAhAE\"><svg focusable=\"false\" xmlns=\"http://www.w3.org/2000/svg\" viewBox=\"0 0 24 24\"><path d=\"M19 6.41L17.59 5 12 10.59 6.41 5 5 6.41 10.59 12 5 17.59 6.41 19 12 13.41 17.59 19 19 17.59 13.41 12z\"></path></svg></span></div><div class=\"q0yked\"><a href=\"/history/optout?hl=zh-CN\" ping=\"/url?sa=t&amp;source=web&amp;rct=j&amp;opi=89978449&amp;url=/history/optout%3Fhl%3Dzh-CN&amp;ved=2ahUKEwj6lNXHuOGMAxXFke4BHT-yNFEQpdoJegQIAhAF\"><span class=\"z1asCe dAmgBb\"><svg focusable=\"false\" xmlns=\"http://www.w3.org/2000/svg\" viewBox=\"0 0 24 24\"><path d=\"M4 4v2.01C5.83 3.58 8.73 2 12.01 2 17.53 2 22 6.48 22 12s-4.47 10-9.99 10C6.48 22 2 17.52 2 12h2c0 4.42 3.58 8 8 8s8-3.58 8-8-3.58-8-8-8C9.04 4 6.47 5.61 5.09 8H8v2H2V4h2z\"></path><path d=\"M13 12V6h-2v7l4.97 3.49 1.26-1.55z\"></path></svg></span><div class=\"uXoAyd\"><span class=\"ZI7elf\">自定义搜索设置</span><span class=\"kQEH5b\"><span jsname=\"dYUyg\" data-ved=\"2ahUKEwj6lNXHuOGMAxXFke4BHT-yNFEQptoJegQIAhAG\">已开启</span></span></div></a></div><div class=\"q0yked\"><a href=\"/safesearch?prev=https://www.google.com/search?q%3Dduck%26ijn%3D0%26start%3D0%26tbs%3D%26udm%3D2&amp;sa=X&amp;ved=2ahUKEwj6lNXHuOGMAxXFke4BHT-yNFEQ8JsIegQIAhAH\"><span class=\"z1asCe\"><svg height=\"24\" viewBox=\"0 -960 960 960\" width=\"24\" xmlns=\"http://www.w3.org/2000/svg\"><path d=\"m644-428-58-58q9-47-27-88t-93-32l-58-58q17-8 34.5-12t37.5-4q75 0 127.5 52.5T660-500q0 20-4 37.5T644-428Zm128 126-58-56q38-29 67.5-63.5T832-500q-50-101-143.5-160.5T480-720q-29 0-57 4t-55 12l-62-62q41-17 84-25.5t90-8.5q151 0 269 83.5T920-500q-23 59-60.5 109.5T772-302Zm20 246L624-222q-35 11-70.5 16.5T480-200q-151 0-269-83.5T40-500q21-53 53-98.5t73-81.5L56-792l56-56 736 736-56 56ZM222-624q-29 26-53 57t-41 67q50 101 143.5 160.5T480-280q20 0 39-2.5t39-5.5l-36-38q-11 3-21 4.5t-21 1.5q-75 0-127.5-52.5T300-500q0-11 1.5-21t4.5-21l-84-82Zm319 93Zm-151 75Z\"></path></svg></span><div class=\"uXoAyd\"><span class=\"ZI7elf\">安全搜索</span><span class=\"kQEH5b\">“模糊处理”已开启</span></div></a></div><div class=\"q0yked\"><a href=\"/preferences?lang=1&amp;hl=zh-CN&amp;prev=https://www.google.com/search?q%3Dduck%26sca_esv%3Dec1c0fa4563bd641%26udm%3D2#languages\" style=\"display:flex\" ping=\"/url?sa=t&amp;source=web&amp;rct=j&amp;opi=89978449&amp;url=/preferences%3Flang%3D1%26hl%3Dzh-CN%26prev%3Dhttps://www.google.com/search%3Fq%253Dduck%2526sca_esv%253Dec1c0fa4563bd641%2526udm%253D2%23languages&amp;ved=2ahUKEwj6lNXHuOGMAxXFke4BHT-yNFEQ8ZsIegQIAhAI\"><span class=\"z1asCe Rxk5mb\"><svg focusable=\"false\" xmlns=\"http://www.w3.org/2000/svg\" viewBox=\"0 0 24 24\"><path d=\"M11.99 2C6.47 2 2 6.48 2 12s4.47 10 9.99 10C17.52 22 22 17.52 22 12S17.52 2 11.99 2zm6.93 6h-2.95a15.65 15.65 0 0 0-1.38-3.56A8.03 8.03 0 0 1 18.92 8zM12 4.04c.83 1.2 1.48 2.53 1.91 3.96h-3.82c.43-1.43 1.08-2.76 1.91-3.96zM4.26 14C4.1 13.36 4 12.69 4 12s.1-1.36.26-2h3.38c-.08.66-.14 1.32-.14 2s.06 1.34.14 2H4.26zm.82 2h2.95c.32 1.25.78 2.45 1.38 3.56A7.987 7.987 0 0 1 5.08 16zm2.95-8H5.08a7.987 7.987 0 0 1 4.33-3.56A15.65 15.65 0 0 0 8.03 8zM12 19.96c-.83-1.2-1.48-2.53-1.91-3.96h3.82c-.43 1.43-1.08 2.76-1.91 3.96zM14.34 14H9.66c-.09-.66-.16-1.32-.16-2s.07-1.35.16-2h4.68c.09.65.16 1.32.16 2s-.07 1.34-.16 2zm.25 5.56c.6-1.11 1.06-2.31 1.38-3.56h2.95a8.03 8.03 0 0 1-4.33 3.56zM16.36 14c.08-.66.14-1.32.14-2s-.06-1.34-.14-2h3.38c.16.64.26 1.31.26 2s-.1 1.36-.26 2h-3.38z\"></path></svg></span><div class=\"uXoAyd\"><div class=\"ZI7elf UCGAnb\">语言<span style=\"font-size:12px\"> (Language)</span></div><span class=\"kQEH5b\">中文 (简体)</span></div></a></div><div class=\"q0yked\"><a href=\"/setprefs?hl=zh-CN&amp;prev=https://www.google.com/search?q%3Dduck%26ijn%3D0%26start%3D0%26tbs%26udm%3D2%26pccc%3D1&amp;sig=0_MuofKbrWw8akMkbskTaNJHiDC4Y%3D&amp;cs=2&amp;sa=X&amp;ved=2ahUKEwj6lNXHuOGMAxXFke4BHT-yNFEQqsEHegQIAhAJ&amp;ictx=1\"><span class=\"z1asCe tSAV7\"><svg focusable=\"false\" xmlns=\"http://www.w3.org/2000/svg\" enable-background=\"new 0 0 24 24\" height=\"24\" viewBox=\"0 0 24 24\" width=\"24\"><rect fill=\"none\" height=\"24\" width=\"24\"></rect><path d=\"M9.37,5.51C9.19,6.15,9.1,6.82,9.1,7.5c0,4.08,3.32,7.4,7.4,7.4c0.68,0,1.35-0.09,1.99-0.27C17.45,17.19,14.93,19,12,19 c-3.86,0-7-3.14-7-7C5,9.07,6.81,6.55,9.37,5.51z M12,3c-4.97,0-9,4.03-9,9s4.03,9,9,9s9-4.03,9-9c0-0.46-0.04-0.92-0.1-1.36 c-0.98,1.37-2.58,2.26-4.4,2.26c-2.98,0-5.4-2.42-5.4-5.4c0-1.81,0.89-3.42,2.26-4.4C12.92,3.04,12.46,3,12,3L12,3z\"></path></svg></span><div class=\"uXoAyd\"><span class=\"ZI7elf UCGAnb\">深色主题</span><span class=\"kQEH5b\">设备默认设置</span></div></a></div><a class=\"tGS0Nc\" href=\"/preferences?hl=zh-CN&amp;prev=https://www.google.com/search?q%3Dduck%26sca_esv%3Dec1c0fa4563bd641%26udm%3D2\" tabindex=\"0\" ping=\"/url?sa=t&amp;source=web&amp;rct=j&amp;opi=89978449&amp;url=/preferences%3Fhl%3Dzh-CN%26prev%3Dhttps://www.google.com/search%3Fq%253Dduck%2526sca_esv%253Dec1c0fa4563bd641%2526udm%253D2&amp;ved=2ahUKEwj6lNXHuOGMAxXFke4BHT-yNFEQ65sIegQIAhAK\">更多设置<span class=\"z1asCe GNeCNe\"><svg focusable=\"false\" xmlns=\"http://www.w3.org/2000/svg\" viewBox=\"0 0 24 24\"><path d=\"M10 6L8.59 7.41 13.17 12l-4.58 4.59L10 18l6-6z\"></path></svg></span></a><div class=\"m0uvVb fgc1P\"><div class=\"q0yked\"><div jsname=\"QTykS\" class=\"S4xgid\" role=\"button\" tabindex=\"0\" jsaction=\"VsgDoc\" data-ved=\"2ahUKEwj6lNXHuOGMAxXFke4BHT-yNFEQ85sIegQIAhAL\"><span style=\"color:#5f6368\" class=\"z1asCe dC6Tmc\"><svg focusable=\"false\" xmlns=\"http://www.w3.org/2000/svg\" viewBox=\"0 0 24 24\"><path d=\"M20 2H4c-1.1 0-1.99.9-1.99 2L2 22l4-4h14c1.1 0 2-.9 2-2V4c0-1.1-.9-2-2-2zm0 14H5.17l-.59.59-.58.58V4h16v12z\"></path><path d=\"M11 12h2v2h-2zm0-6h2v4h-2z\"></path></svg></span><span class=\"ZI7elf\">发送反馈</span></div></div></div><div class=\"kzt0Nc\"><a href=\"https://support.google.com/websearch/?p=dsrp_search_hc&amp;hl=zh-CN\" ping=\"/url?sa=t&amp;source=web&amp;rct=j&amp;opi=89978449&amp;url=https://support.google.com/websearch/%3Fp%3Ddsrp_search_hc%26hl%3Dzh-CN&amp;ved=2ahUKEwj6lNXHuOGMAxXFke4BHT-yNFEQ8psIegQIAhAM\">帮助</a>&nbsp;•&nbsp;<a href=\"https://policies.google.com/privacy?hl=zh-CN&amp;fg=1\" ping=\"/url?sa=t&amp;source=web&amp;rct=j&amp;opi=89978449&amp;url=https://policies.google.com/privacy%3Fhl%3Dzh-CN%26fg%3D1&amp;ved=2ahUKEwj6lNXHuOGMAxXFke4BHT-yNFEQxZEKegQIAhAN\">隐私保护</a>&nbsp;•&nbsp;<a href=\"https://policies.google.com/terms?hl=zh-CN&amp;fg=1\" ping=\"/url?sa=t&amp;source=web&amp;rct=j&amp;opi=89978449&amp;url=https://policies.google.com/terms%3Fhl%3Dzh-CN%26fg%3D1&amp;ved=2ahUKEwj6lNXHuOGMAxXFke4BHT-yNFEQu58KegQIAhAO\">条款</a></div></div>');})();(function(){window.jsl.dh('_nzICaLrJKsWjur8Pv-TSiQU_27','   <div jsname=\"rSAM5d\"> <div style=\"opacity:0\" id=\"arc-stev\" data-jiis=\"up\" data-async-type=\"arc\" data-async-context-required=\"arc_id,q\" class=\"yp\" data-async-rclass=\"search\"></div> </div>    <div jsname=\"UefMMd\" style=\"display:none\">  <div class=\"nxt0kf\"> <div aria-valuetext=\"正在加载…\" role=\"progressbar\" class=\"wxFLgf\"><div class=\"WsWxhd vt6azd\"><div class=\"CoFRkb HoA6Kb\"></div><div class=\"go1Xte HoA6Kb\"></div><div class=\"go1Xte HoA6Kb\"></div><div class=\"go1Xte HoA6Kb\"></div><div class=\"go1Xte HoA6Kb\"></div><div class=\"go1Xte HoA6Kb\"></div><div class=\"go1Xte HoA6Kb\"></div><div class=\"go1Xte HoA6Kb\"></div><div class=\"go1Xte HoA6Kb\"></div><div class=\"go1Xte HoA6Kb\"></div><div class=\"go1Xte HoA6Kb\"></div><div class=\"go1Xte HoA6Kb\"></div><div class=\"go1Xte HoA6Kb\"></div><div class=\"go1Xte HoA6Kb\"></div><div class=\"go1Xte HoA6Kb\"></div><div class=\"go1Xte HoA6Kb\"></div></div></div> </div>  </div>  <template jsname=\"RuLM0e\"> <div jsname=\"Ei53Y\" data-ved=\"2ahUKEwj6lNXHuOGMAxXFke4BHT-yNFEQsMoFegQIAhAP\"> </div> </template>     ');})();(function(){window.jsl.dh('spch','<button class=\"pz5bj\" id=\"spchx\" aria-label=\"关闭\"><span style=\"height:16px;line-height:16px;width:16px\" class=\"z1asCe wuXmqc\"><svg focusable=\"false\" xmlns=\"http://www.w3.org/2000/svg\" viewBox=\"0 0 24 24\"><path d=\"M19 6.41L17.59 5 12 10.59 6.41 5 5 6.41 10.59 12 5 17.59 6.41 19 12 13.41 17.59 19 19 17.59 13.41 12z\"></path></svg></span></button><div class=\"spchc\" id=\"spchc\"><div class=\"inner-container\"><div class=\"button-container\"><span class=\"r8s4j\" id=\"spchl\"></span><span class=\"LgbsSe\" id=\"spchb\"><div class=\"microphone\"><span class=\"receiver\"></span><div class=\"wrapper\"><span class=\"stem\"></span><span class=\"shell\"></span></div></div></span></div><div class=\"text-container\"><span class=\"spcht\" style=\"color:#70757a\" id=\"spchi\"></span><span class=\"spcht\" style=\"color:#000\" id=\"spchf\"></span></div><div class=\"google-logo\"></div></div><div class=\"permission-bar\"><div class=\"permission-bar-gradient\"></div></div></div>');})();(function(){window.jsl.dh('fbar','<div class=\"B4GxFc\"></div><div class=\"fbar b2hzT\"><div class=\"b0KoTc B4GxFc\"><div class=\"fbar smiUbb\" id=\"swml\"><div jscontroller=\"qcH9Lc\" jsdata=\"z6bOeb;_;AXo0H4\" jsaction=\"oEnJg:CEnhyd;gJk92:b6DXXd;JCifrc:TvD9Pc\"><div class=\"rwA8ec HDOrGf GNm3Qb\" style=\"white-space:normal\"><a jsname=\"gXWYVe\" href=\"#\" style=\"white-space:normal\" data-biw=\"1440\" jsaction=\"click:HTIlC\" role=\"button\" tabindex=\"0\" data-ved=\"2ahUKEwj6lNXHuOGMAxXFke4BHT-yNFEQuZ0HegQIAxAB\"><div class=\"GNm3Qb\"><span class=\"EYqSq unknown_loc\"></span><span class=\"dfB0uf\">拉斯维加斯 内华达</span></div><div class=\"GNm3Qb\"><span id=\"VdZal\">&nbsp;-&nbsp;</span><span class=\"KwU3F\"><span>是根据您的 IP 地址推断出来的</span></span></div></a><span id=\"tsuid_nzICaLrJKsWjur8Pv-TSiQU_16\"></span></div><span id=\"RYW0de\">&nbsp;-&nbsp;</span><update-location class=\"xSQxL HDOrGf\"><div class=\"VtPCGb\" jscontroller=\"KgxeNb\" role=\"button\" tabindex=\"0\" jsaction=\"click:T1dibd;gfszqc:b4F0De;\" jsdata=\"ITZAN;_;AXo0IA\" data-ved=\"2ahUKEwj6lNXHuOGMAxXFke4BHT-yNFEQpLkCegQIAxAD\">更新位置信息<span jsname=\"Fz56Ue\" data-ved=\"2ahUKEwj6lNXHuOGMAxXFke4BHT-yNFEQl6ENegQIAxAE\"></span><span id=\"tsuid_nzICaLrJKsWjur8Pv-TSiQU_19\"></span><span id=\"tsuid_nzICaLrJKsWjur8Pv-TSiQU_21\"></span><span id=\"tsuid_nzICaLrJKsWjur8Pv-TSiQU_25\"></span></div></update-location></div></div></div></div><div class=\"fbar\"><span class=\"B4GxFc\"><span id=\"fsl\"><a class=\"Fx4vi wHYlTd ZYHQ7e\" href=\"https://support.google.com/websearch/?p=ws_results_help&amp;hl=zh-CN&amp;fg=1\" ping=\"/url?sa=t&amp;source=web&amp;rct=j&amp;opi=89978449&amp;url=https://support.google.com/websearch/%3Fp%3Dws_results_help%26hl%3Dzh-CN%26fg%3D1&amp;ved=2ahUKEwj6lNXHuOGMAxXFke4BHT-yNFEQ8KwCegQIAxAK\">帮助</a><a href=\"#\" class=\"Fx4vi wHYlTd\" data-bucket=\"websearch\" data-psd-ssc=\"0\" target=\"_blank\" jsaction=\"trigger.YcfJ\" id=\"dk2qOd\" data-ved=\"2ahUKEwj6lNXHuOGMAxXFke4BHT-yNFEQLnoECAMQCw\">发送反馈</a><a class=\"Fx4vi wHYlTd ZYHQ7e\" href=\"https://policies.google.com/privacy?hl=zh-CN&amp;fg=1\" ping=\"/url?sa=t&amp;source=web&amp;rct=j&amp;opi=89978449&amp;url=https://policies.google.com/privacy%3Fhl%3Dzh-CN%26fg%3D1&amp;ved=2ahUKEwj6lNXHuOGMAxXFke4BHT-yNFEQ8awCegQIAxAM\">隐私权</a><a class=\"Fx4vi wHYlTd ZYHQ7e\" href=\"https://policies.google.com/terms?hl=zh-CN&amp;fg=1\" ping=\"/url?sa=t&amp;source=web&amp;rct=j&amp;opi=89978449&amp;url=https://policies.google.com/terms%3Fhl%3Dzh-CN%26fg%3D1&amp;ved=2ahUKEwj6lNXHuOGMAxXFke4BHT-yNFEQ8qwCegQIAxAN\">条款</a></span></span></div>');})();(function(){window.jsl.dh('tsuid_nzICaLrJKsWjur8Pv-TSiQU_16','<g-dialog jsname=\"BDbGbf\" jscontroller=\"VEbNoe\" data-id=\"_nzICaLrJKsWjur8Pv-TSiQU_18\" jsaction=\"jxvro:Imgh9b;dBhwS:TvD9Pc;mLt3mc;KyPa0e:cRhSI;wjOG7e:cRhSI\" jsdata=\"gctHtc;_;AXo0H8\" jsshadow=\"\"><div jsname=\"XKSfm\" id=\"_nzICaLrJKsWjur8Pv-TSiQU_18\"></div></g-dialog>');})();(function(){window.jsl.dh('tsuid_nzICaLrJKsWjur8Pv-TSiQU_19','<span jscontroller=\"O9SqHb\" jsaction=\"rcuQ6b:npT2md;D7JhZd:RySO6d\"></span>');})();(function(){window.jsl.dh('tsuid_nzICaLrJKsWjur8Pv-TSiQU_21','<location-snackbar-with-learn-more jsname=\"Nf9Im\" jscontroller=\"khkNpe\" jsaction=\"sFrcje:No7Jhf\"><span id=\"tsuid_nzICaLrJKsWjur8Pv-TSiQU_23\"></span></location-snackbar-with-learn-more>');})();(function(){window.jsl.dh('tsuid_nzICaLrJKsWjur8Pv-TSiQU_25','<g-snackbar jsname=\"M8d6me\" jscontroller=\"OZLguc\" style=\"display:none\" jsshadow=\"\"><div jsname=\"sM5MNb\" aria-live=\"polite\" class=\"LH3wG\" style=\"z-index:2000\"><div jsname=\"Ng57nc\" class=\"yK6jqe\" data-ved=\"2ahUKEwj6lNXHuOGMAxXFke4BHT-yNFEQ4G96BAgDEAk\"><div class=\"b77HKf\"><div class=\"rIxsve\" jsslot=\"\"><span class=\"Txngnb wHYlTd yUTMj\">正在更新位置…</span></div></div></div></div></g-snackbar>');})();(function(){window.jsl.dh('_nzICaLrJKsWjur8Pv-TSiQU_18','<div jsname=\"bF1uUb\" class=\"kJFf0c KUf18\"></div><div class=\"mcPPZ yMNJR nP0TDe xg7rAe\" jsaction=\"trigger.dBhwS\"><div class=\"LjfRsf\" aria-hidden=\"true\" role=\"button\" tabindex=\"0\" jsaction=\"focus:sT2f3e\"></div><span jsslot=\"\" jsaction=\"mLt3mc\"><div class=\"qk7LXc TUOsUe Fb1AKc OosGzb\" aria-labelledby=\"lQ3q8c\" role=\"dialog\"><div jsname=\"C8RmQc\" id=\"C8RmQc\" data-jiis=\"up\" data-async-type=\"lbsc\" class=\"yp\"></div></div></span><div class=\"LjfRsf\" aria-hidden=\"true\" role=\"button\" tabindex=\"0\" jsaction=\"focus:tuePCd\"></div></div>');})();(function(){window.jsl.dh('tsuid_nzICaLrJKsWjur8Pv-TSiQU_23','<g-snackbar jsname=\"Ng57nc\" jscontroller=\"OZLguc\" style=\"display:none\" data-dismiss=\"\" jsshadow=\"\"><div jsname=\"sM5MNb\" aria-live=\"polite\" class=\"LH3wG\" style=\"z-index:2000\"><div jsname=\"Ng57nc\" class=\"yK6jqe\" data-ved=\"2ahUKEwj6lNXHuOGMAxXFke4BHT-yNFEQ4G96BAgDEAU\"><div class=\"b77HKf\"><div class=\"rIxsve\" jsslot=\"\"><span class=\"Txngnb wHYlTd yUTMj\">无法更新您的位置</span><g-snackbar-action class=\"sHFNYd zJUuqf AB4Wff UwURDc\" jsname=\"zrfavf\" jscontroller=\"xRxDld\" jsaction=\"GtUzrb\" data-ved=\"2ahUKEwj6lNXHuOGMAxXFke4BHT-yNFEQhbkIegQIAxAH\"><g-flat-button class=\"C5ZtL r2fjmd hObAcc gTewb VDgVie ybnC1 C8PMuc\" style=\"color:#4285f4\" role=\"button\" tabindex=\"0\"><span class=\"pEWLJ\">了解详情</span></g-flat-button></g-snackbar-action></div></div></div></div></g-snackbar>');})();(function(){window.jsl.dh('nzICaLrJKsWjur8Pv-TSiQU__9','<div role=\"listitem\" data-hveid=\"CIsBEAA\" data-ved=\"2ahUKEwj6lNXHuOGMAxXFke4BHT-yNFEQtoAJKAB6BQiLARAA\"><a href=\"/travel/flights?sca_esv=ec1c0fa4563bd641&amp;output=search&amp;q=duck&amp;source=lnms&amp;fbs=ABzOT_AGBMogrnfXHu6GxeqSvos9XSASLdCNmBvs6Xj8xORx7AlL8lCl_n7FZfefaj6Y6jMWmC0dgiwmsiJSIxAyEhiLqrEoGFQeFWdZFc4OaeYiejI15ez4PXDjuW-y880Zsv51FDncBJR77XtwyIHeLkLE5pihSye7cIIK3ak-UpCLVfPzbmp\n"
          ]
        }
      ]
    },
    {
      "cell_type": "code",
      "source": [
        "download_images(\"farm chicken\", 100, \"chicken_images\")\n",
        "download_images(\"white duck\", 100, \"duck_images\")\n"
      ],
      "metadata": {
        "colab": {
          "base_uri": "https://localhost:8080/"
        },
        "id": "-AcdOGkol-Wp",
        "outputId": "4720124a-3265-44cc-ac2b-f854e836474a"
      },
      "execution_count": 18,
      "outputs": [
        {
          "output_type": "stream",
          "name": "stderr",
          "text": [
            "ERROR:downloader:Response status code 400, file https://media.gettyimages.com/id/143545022/photo/white-duck-flying.jpg\n",
            "ERROR:downloader:Response status code 403, file https://opensanctuary.org/wp-content/uploads/2022/07/image.png\n",
            "ERROR:downloader:Response status code 403, file https://static.vecteezy.com/system/resources/previews/042/891/221/non_2x/a-cartoon-white-duck-standing-on-a-white-background-vector.jpg\n",
            "ERROR:downloader:Response status code 400, file https://media.istockphoto.com/id/1386064599/photo/pet-ducks-in-home-backyard.jpg\n"
          ]
        }
      ]
    },
    {
      "cell_type": "code",
      "source": [
        "print(\"Chickens:\", len(os.listdir(\"chicken_images\")))\n",
        "print(\"Ducks:\", len(os.listdir(\"duck_images\")))\n"
      ],
      "metadata": {
        "colab": {
          "base_uri": "https://localhost:8080/"
        },
        "id": "RuR3rBJ7lQse",
        "outputId": "0afabd56-270b-402d-f07e-462d24a5939b"
      },
      "execution_count": 33,
      "outputs": [
        {
          "output_type": "stream",
          "name": "stdout",
          "text": [
            "Chickens: 106\n",
            "Ducks: 103\n"
          ]
        }
      ]
    },
    {
      "cell_type": "code",
      "source": [
        "import shutil\n",
        "\n",
        "shutil.make_archive(\"chicken_images\", 'zip', \"chicken_images\")\n",
        "shutil.make_archive(\"duck_images\", 'zip', \"duck_images\")\n"
      ],
      "metadata": {
        "colab": {
          "base_uri": "https://localhost:8080/",
          "height": 35
        },
        "id": "6ZBqF7NGmqX8",
        "outputId": "2caa11df-e67b-4d3a-c4a5-28ff0718b536"
      },
      "execution_count": 34,
      "outputs": [
        {
          "output_type": "execute_result",
          "data": {
            "text/plain": [
              "'/content/duck_images.zip'"
            ],
            "application/vnd.google.colaboratory.intrinsic+json": {
              "type": "string"
            }
          },
          "metadata": {},
          "execution_count": 34
        }
      ]
    },
    {
      "cell_type": "code",
      "source": [
        "from google.colab import files\n",
        "\n",
        "files.download(\"chicken_images.zip\")\n",
        "files.download(\"duck_images.zip\")\n"
      ],
      "metadata": {
        "colab": {
          "base_uri": "https://localhost:8080/",
          "height": 17
        },
        "id": "jU9dMmUDoJXG",
        "outputId": "55615e86-ef2e-4cb5-f4e0-bf0d01360be5"
      },
      "execution_count": 35,
      "outputs": [
        {
          "output_type": "display_data",
          "data": {
            "text/plain": [
              "<IPython.core.display.Javascript object>"
            ],
            "application/javascript": [
              "\n",
              "    async function download(id, filename, size) {\n",
              "      if (!google.colab.kernel.accessAllowed) {\n",
              "        return;\n",
              "      }\n",
              "      const div = document.createElement('div');\n",
              "      const label = document.createElement('label');\n",
              "      label.textContent = `Downloading \"${filename}\": `;\n",
              "      div.appendChild(label);\n",
              "      const progress = document.createElement('progress');\n",
              "      progress.max = size;\n",
              "      div.appendChild(progress);\n",
              "      document.body.appendChild(div);\n",
              "\n",
              "      const buffers = [];\n",
              "      let downloaded = 0;\n",
              "\n",
              "      const channel = await google.colab.kernel.comms.open(id);\n",
              "      // Send a message to notify the kernel that we're ready.\n",
              "      channel.send({})\n",
              "\n",
              "      for await (const message of channel.messages) {\n",
              "        // Send a message to notify the kernel that we're ready.\n",
              "        channel.send({})\n",
              "        if (message.buffers) {\n",
              "          for (const buffer of message.buffers) {\n",
              "            buffers.push(buffer);\n",
              "            downloaded += buffer.byteLength;\n",
              "            progress.value = downloaded;\n",
              "          }\n",
              "        }\n",
              "      }\n",
              "      const blob = new Blob(buffers, {type: 'application/binary'});\n",
              "      const a = document.createElement('a');\n",
              "      a.href = window.URL.createObjectURL(blob);\n",
              "      a.download = filename;\n",
              "      div.appendChild(a);\n",
              "      a.click();\n",
              "      div.remove();\n",
              "    }\n",
              "  "
            ]
          },
          "metadata": {}
        },
        {
          "output_type": "display_data",
          "data": {
            "text/plain": [
              "<IPython.core.display.Javascript object>"
            ],
            "application/javascript": [
              "download(\"download_4d2cb5a2-66a5-471f-861b-6ff0d0e8ac93\", \"chicken_images.zip\", 98600080)"
            ]
          },
          "metadata": {}
        },
        {
          "output_type": "display_data",
          "data": {
            "text/plain": [
              "<IPython.core.display.Javascript object>"
            ],
            "application/javascript": [
              "\n",
              "    async function download(id, filename, size) {\n",
              "      if (!google.colab.kernel.accessAllowed) {\n",
              "        return;\n",
              "      }\n",
              "      const div = document.createElement('div');\n",
              "      const label = document.createElement('label');\n",
              "      label.textContent = `Downloading \"${filename}\": `;\n",
              "      div.appendChild(label);\n",
              "      const progress = document.createElement('progress');\n",
              "      progress.max = size;\n",
              "      div.appendChild(progress);\n",
              "      document.body.appendChild(div);\n",
              "\n",
              "      const buffers = [];\n",
              "      let downloaded = 0;\n",
              "\n",
              "      const channel = await google.colab.kernel.comms.open(id);\n",
              "      // Send a message to notify the kernel that we're ready.\n",
              "      channel.send({})\n",
              "\n",
              "      for await (const message of channel.messages) {\n",
              "        // Send a message to notify the kernel that we're ready.\n",
              "        channel.send({})\n",
              "        if (message.buffers) {\n",
              "          for (const buffer of message.buffers) {\n",
              "            buffers.push(buffer);\n",
              "            downloaded += buffer.byteLength;\n",
              "            progress.value = downloaded;\n",
              "          }\n",
              "        }\n",
              "      }\n",
              "      const blob = new Blob(buffers, {type: 'application/binary'});\n",
              "      const a = document.createElement('a');\n",
              "      a.href = window.URL.createObjectURL(blob);\n",
              "      a.download = filename;\n",
              "      div.appendChild(a);\n",
              "      a.click();\n",
              "      div.remove();\n",
              "    }\n",
              "  "
            ]
          },
          "metadata": {}
        },
        {
          "output_type": "display_data",
          "data": {
            "text/plain": [
              "<IPython.core.display.Javascript object>"
            ],
            "application/javascript": [
              "download(\"download_5a6bc2a1-790d-4cfd-9dad-5d4bc45a89bb\", \"duck_images.zip\", 65752849)"
            ]
          },
          "metadata": {}
        }
      ]
    },
    {
      "cell_type": "markdown",
      "source": [],
      "metadata": {
        "id": "_ZeQypvQLTXX"
      }
    }
  ]
}